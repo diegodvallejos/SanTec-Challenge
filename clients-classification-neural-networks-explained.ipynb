{
 "cells": [
  {
   "cell_type": "markdown",
   "metadata": {
    "papermill": {
     "duration": 0.089813,
     "end_time": "2020-10-28T01:44:46.309911",
     "exception": false,
     "start_time": "2020-10-28T01:44:46.220098",
     "status": "completed"
    },
    "tags": []
   },
   "source": [
    "<h1><center>Clustering analysis Google Analytics, Full explained with GridSearch, Neural Networks, RandomForest and Logistic Regression models."
   ]
  },
  {
   "cell_type": "markdown",
   "metadata": {
    "papermill": {
     "duration": 0.085247,
     "end_time": "2020-10-28T01:44:46.482429",
     "exception": false,
     "start_time": "2020-10-28T01:44:46.397182",
     "status": "completed"
    },
    "tags": []
   },
   "source": [
    "Pleas, any question, doubt or suggestion I will be happy to answer you."
   ]
  },
  {
   "cell_type": "markdown",
   "metadata": {
    "papermill": {
     "duration": 0.086763,
     "end_time": "2020-10-28T01:44:46.656938",
     "exception": false,
     "start_time": "2020-10-28T01:44:46.570175",
     "status": "completed"
    },
    "tags": []
   },
   "source": [
    "# ***Objetive:***\n",
    "\n",
    "We work as data scientists for a retail company that, due to the change in customer consumption habits, is widely promoting the online sales service. The company wants to run a machine learning model to rank customers based on the likelihood of generating revenue when shopping on the web.\n",
    "\n",
    "The goal is to perform a series of specific actions for customers who are most likely to make purchases on the web."
   ]
  },
  {
   "cell_type": "code",
   "execution_count": 1,
   "metadata": {
    "execution": {
     "iopub.execute_input": "2020-10-28T01:44:46.841905Z",
     "iopub.status.busy": "2020-10-28T01:44:46.841068Z",
     "iopub.status.idle": "2020-10-28T01:44:54.584675Z",
     "shell.execute_reply": "2020-10-28T01:44:54.583812Z"
    },
    "papermill": {
     "duration": 7.84165,
     "end_time": "2020-10-28T01:44:54.584811",
     "exception": false,
     "start_time": "2020-10-28T01:44:46.743161",
     "status": "completed"
    },
    "tags": []
   },
   "outputs": [],
   "source": [
    "#Import necesary libraries \n",
    "import pandas as pd # Basic tool for transform and clean Data. \n",
    "pd.options.display.max_columns = 100 # This option lets us see on the screen 100 columns of informatio\n",
    "                                    # that is really usefull for a better visualitation of our data\n",
    "import numpy as np\n",
    "from sklearn.neural_network import MLPClassifier\n",
    "from sklearn.preprocessing import StandardScaler\n",
    "from sklearn.linear_model import LogisticRegression\n",
    "from sklearn.model_selection import train_test_split, GridSearchCV\n",
    "import matplotlib.pyplot as plt\n",
    "import seaborn as sns\n",
    "import sklearn.metrics as metrics\n",
    "import warnings\n",
    "from tensorflow import keras\n",
    "from tensorflow.keras import layers\n",
    "from sklearn.preprocessing import PowerTransformer, MinMaxScaler\n",
    "import tensorflow as tf\n",
    "from sklearn.ensemble import RandomForestClassifier\n",
    "from sklearn.metrics import classification_report\n",
    "warnings.filterwarnings('ignore')"
   ]
  },
  {
   "cell_type": "code",
   "execution_count": 2,
   "metadata": {
    "execution": {
     "iopub.execute_input": "2020-10-28T01:44:54.767662Z",
     "iopub.status.busy": "2020-10-28T01:44:54.766799Z",
     "iopub.status.idle": "2020-10-28T01:44:54.816441Z",
     "shell.execute_reply": "2020-10-28T01:44:54.815661Z"
    },
    "papermill": {
     "duration": 0.145034,
     "end_time": "2020-10-28T01:44:54.816580",
     "exception": false,
     "start_time": "2020-10-28T01:44:54.671546",
     "status": "completed"
    },
    "tags": []
   },
   "outputs": [],
   "source": [
    "XY = pd.read_csv('../input/online-shoppers-intention/online_shoppers_intention.csv')"
   ]
  },
  {
   "cell_type": "code",
   "execution_count": 3,
   "metadata": {
    "execution": {
     "iopub.execute_input": "2020-10-28T01:44:55.012573Z",
     "iopub.status.busy": "2020-10-28T01:44:55.006525Z",
     "iopub.status.idle": "2020-10-28T01:44:55.030137Z",
     "shell.execute_reply": "2020-10-28T01:44:55.030803Z"
    },
    "papermill": {
     "duration": 0.128559,
     "end_time": "2020-10-28T01:44:55.030973",
     "exception": false,
     "start_time": "2020-10-28T01:44:54.902414",
     "status": "completed"
    },
    "tags": []
   },
   "outputs": [
    {
     "name": "stdout",
     "output_type": "stream",
     "text": [
      "- El número de filas en el dataset es: 12330\n",
      "- El número de columnas en el dataset es: 18\n",
      "- Los nombres de las variables son: ['Administrative', 'Administrative_Duration', 'Informational', 'Informational_Duration', 'ProductRelated', 'ProductRelated_Duration', 'BounceRates', 'ExitRates', 'PageValues', 'SpecialDay', 'Month', 'OperatingSystems', 'Browser', 'Region', 'TrafficType', 'VisitorType', 'Weekend', 'Revenue']\n"
     ]
    },
    {
     "data": {
      "text/html": [
       "<div>\n",
       "<style scoped>\n",
       "    .dataframe tbody tr th:only-of-type {\n",
       "        vertical-align: middle;\n",
       "    }\n",
       "\n",
       "    .dataframe tbody tr th {\n",
       "        vertical-align: top;\n",
       "    }\n",
       "\n",
       "    .dataframe thead th {\n",
       "        text-align: right;\n",
       "    }\n",
       "</style>\n",
       "<table border=\"1\" class=\"dataframe\">\n",
       "  <thead>\n",
       "    <tr style=\"text-align: right;\">\n",
       "      <th></th>\n",
       "      <th>Administrative</th>\n",
       "      <th>Administrative_Duration</th>\n",
       "      <th>Informational</th>\n",
       "      <th>Informational_Duration</th>\n",
       "      <th>ProductRelated</th>\n",
       "      <th>ProductRelated_Duration</th>\n",
       "      <th>BounceRates</th>\n",
       "      <th>ExitRates</th>\n",
       "      <th>PageValues</th>\n",
       "      <th>SpecialDay</th>\n",
       "      <th>Month</th>\n",
       "      <th>OperatingSystems</th>\n",
       "      <th>Browser</th>\n",
       "      <th>Region</th>\n",
       "      <th>TrafficType</th>\n",
       "      <th>VisitorType</th>\n",
       "      <th>Weekend</th>\n",
       "      <th>Revenue</th>\n",
       "    </tr>\n",
       "  </thead>\n",
       "  <tbody>\n",
       "    <tr>\n",
       "      <th>0</th>\n",
       "      <td>0</td>\n",
       "      <td>0.0</td>\n",
       "      <td>0</td>\n",
       "      <td>0.0</td>\n",
       "      <td>1</td>\n",
       "      <td>0.0</td>\n",
       "      <td>0.2</td>\n",
       "      <td>0.2</td>\n",
       "      <td>0.0</td>\n",
       "      <td>0.0</td>\n",
       "      <td>Feb</td>\n",
       "      <td>1</td>\n",
       "      <td>1</td>\n",
       "      <td>1</td>\n",
       "      <td>1</td>\n",
       "      <td>Returning_Visitor</td>\n",
       "      <td>False</td>\n",
       "      <td>False</td>\n",
       "    </tr>\n",
       "    <tr>\n",
       "      <th>1</th>\n",
       "      <td>0</td>\n",
       "      <td>0.0</td>\n",
       "      <td>0</td>\n",
       "      <td>0.0</td>\n",
       "      <td>2</td>\n",
       "      <td>64.0</td>\n",
       "      <td>0.0</td>\n",
       "      <td>0.1</td>\n",
       "      <td>0.0</td>\n",
       "      <td>0.0</td>\n",
       "      <td>Feb</td>\n",
       "      <td>2</td>\n",
       "      <td>2</td>\n",
       "      <td>1</td>\n",
       "      <td>2</td>\n",
       "      <td>Returning_Visitor</td>\n",
       "      <td>False</td>\n",
       "      <td>False</td>\n",
       "    </tr>\n",
       "  </tbody>\n",
       "</table>\n",
       "</div>"
      ],
      "text/plain": [
       "   Administrative  Administrative_Duration  Informational  \\\n",
       "0               0                      0.0              0   \n",
       "1               0                      0.0              0   \n",
       "\n",
       "   Informational_Duration  ProductRelated  ProductRelated_Duration  \\\n",
       "0                     0.0               1                      0.0   \n",
       "1                     0.0               2                     64.0   \n",
       "\n",
       "   BounceRates  ExitRates  PageValues  SpecialDay Month  OperatingSystems  \\\n",
       "0          0.2        0.2         0.0         0.0   Feb                 1   \n",
       "1          0.0        0.1         0.0         0.0   Feb                 2   \n",
       "\n",
       "   Browser  Region  TrafficType        VisitorType  Weekend  Revenue  \n",
       "0        1       1            1  Returning_Visitor    False    False  \n",
       "1        2       1            2  Returning_Visitor    False    False  "
      ]
     },
     "execution_count": 3,
     "metadata": {},
     "output_type": "execute_result"
    }
   ],
   "source": [
    "print(u'- El número de filas en el dataset es: {}'.format(XY.shape[0]))\n",
    "print(u'- El número de columnas en el dataset es: {}'.format(XY.shape[1]))\n",
    "print(u'- Los nombres de las variables son: {}'.format(list(XY.columns)))\n",
    "XY[:2]"
   ]
  },
  {
   "cell_type": "code",
   "execution_count": 4,
   "metadata": {
    "execution": {
     "iopub.execute_input": "2020-10-28T01:44:55.218611Z",
     "iopub.status.busy": "2020-10-28T01:44:55.217487Z",
     "iopub.status.idle": "2020-10-28T01:44:55.233810Z",
     "shell.execute_reply": "2020-10-28T01:44:55.233027Z"
    },
    "papermill": {
     "duration": 0.113127,
     "end_time": "2020-10-28T01:44:55.233944",
     "exception": false,
     "start_time": "2020-10-28T01:44:55.120817",
     "status": "completed"
    },
    "tags": []
   },
   "outputs": [
    {
     "name": "stdout",
     "output_type": "stream",
     "text": [
      "<class 'pandas.core.frame.DataFrame'>\n",
      "RangeIndex: 12330 entries, 0 to 12329\n",
      "Data columns (total 18 columns):\n",
      " #   Column                   Non-Null Count  Dtype  \n",
      "---  ------                   --------------  -----  \n",
      " 0   Administrative           12330 non-null  int64  \n",
      " 1   Administrative_Duration  12330 non-null  float64\n",
      " 2   Informational            12330 non-null  int64  \n",
      " 3   Informational_Duration   12330 non-null  float64\n",
      " 4   ProductRelated           12330 non-null  int64  \n",
      " 5   ProductRelated_Duration  12330 non-null  float64\n",
      " 6   BounceRates              12330 non-null  float64\n",
      " 7   ExitRates                12330 non-null  float64\n",
      " 8   PageValues               12330 non-null  float64\n",
      " 9   SpecialDay               12330 non-null  float64\n",
      " 10  Month                    12330 non-null  object \n",
      " 11  OperatingSystems         12330 non-null  int64  \n",
      " 12  Browser                  12330 non-null  int64  \n",
      " 13  Region                   12330 non-null  int64  \n",
      " 14  TrafficType              12330 non-null  int64  \n",
      " 15  VisitorType              12330 non-null  object \n",
      " 16  Weekend                  12330 non-null  bool   \n",
      " 17  Revenue                  12330 non-null  bool   \n",
      "dtypes: bool(2), float64(7), int64(7), object(2)\n",
      "memory usage: 1.5+ MB\n"
     ]
    }
   ],
   "source": [
    "XY.info()"
   ]
  },
  {
   "cell_type": "code",
   "execution_count": 5,
   "metadata": {
    "execution": {
     "iopub.execute_input": "2020-10-28T01:44:55.420813Z",
     "iopub.status.busy": "2020-10-28T01:44:55.419728Z",
     "iopub.status.idle": "2020-10-28T01:44:55.455474Z",
     "shell.execute_reply": "2020-10-28T01:44:55.454801Z"
    },
    "papermill": {
     "duration": 0.133807,
     "end_time": "2020-10-28T01:44:55.455645",
     "exception": false,
     "start_time": "2020-10-28T01:44:55.321838",
     "status": "completed"
    },
    "tags": []
   },
   "outputs": [
    {
     "data": {
      "text/html": [
       "<div>\n",
       "<style scoped>\n",
       "    .dataframe tbody tr th:only-of-type {\n",
       "        vertical-align: middle;\n",
       "    }\n",
       "\n",
       "    .dataframe tbody tr th {\n",
       "        vertical-align: top;\n",
       "    }\n",
       "\n",
       "    .dataframe thead th {\n",
       "        text-align: right;\n",
       "    }\n",
       "</style>\n",
       "<table border=\"1\" class=\"dataframe\">\n",
       "  <thead>\n",
       "    <tr style=\"text-align: right;\">\n",
       "      <th></th>\n",
       "      <th>Weekend</th>\n",
       "      <th>Revenue</th>\n",
       "    </tr>\n",
       "  </thead>\n",
       "  <tbody>\n",
       "    <tr>\n",
       "      <th>count</th>\n",
       "      <td>12330</td>\n",
       "      <td>12330</td>\n",
       "    </tr>\n",
       "    <tr>\n",
       "      <th>unique</th>\n",
       "      <td>2</td>\n",
       "      <td>2</td>\n",
       "    </tr>\n",
       "    <tr>\n",
       "      <th>top</th>\n",
       "      <td>False</td>\n",
       "      <td>False</td>\n",
       "    </tr>\n",
       "    <tr>\n",
       "      <th>freq</th>\n",
       "      <td>9462</td>\n",
       "      <td>10422</td>\n",
       "    </tr>\n",
       "  </tbody>\n",
       "</table>\n",
       "</div>"
      ],
      "text/plain": [
       "       Weekend Revenue\n",
       "count    12330   12330\n",
       "unique       2       2\n",
       "top      False   False\n",
       "freq      9462   10422"
      ]
     },
     "execution_count": 5,
     "metadata": {},
     "output_type": "execute_result"
    }
   ],
   "source": [
    "XY.describe(include = 'bool')"
   ]
  },
  {
   "cell_type": "markdown",
   "metadata": {
    "papermill": {
     "duration": 0.089821,
     "end_time": "2020-10-28T01:44:55.636244",
     "exception": false,
     "start_time": "2020-10-28T01:44:55.546423",
     "status": "completed"
    },
    "tags": []
   },
   "source": [
    "At this point we coud see that we need a binary cluster Ml model to indetify what kind of user will buy in the online stores. So, we will start  \n",
    "# <center> **Preprocessing Data**"
   ]
  },
  {
   "cell_type": "code",
   "execution_count": 6,
   "metadata": {
    "execution": {
     "iopub.execute_input": "2020-10-28T01:44:55.825790Z",
     "iopub.status.busy": "2020-10-28T01:44:55.824900Z",
     "iopub.status.idle": "2020-10-28T01:44:55.832712Z",
     "shell.execute_reply": "2020-10-28T01:44:55.832041Z"
    },
    "papermill": {
     "duration": 0.107063,
     "end_time": "2020-10-28T01:44:55.832854",
     "exception": false,
     "start_time": "2020-10-28T01:44:55.725791",
     "status": "completed"
    },
    "tags": []
   },
   "outputs": [
    {
     "data": {
      "text/plain": [
       "Administrative             0\n",
       "Administrative_Duration    0\n",
       "Informational              0\n",
       "Informational_Duration     0\n",
       "ProductRelated             0\n",
       "ProductRelated_Duration    0\n",
       "BounceRates                0\n",
       "ExitRates                  0\n",
       "PageValues                 0\n",
       "SpecialDay                 0\n",
       "Month                      0\n",
       "OperatingSystems           0\n",
       "Browser                    0\n",
       "Region                     0\n",
       "TrafficType                0\n",
       "VisitorType                0\n",
       "Weekend                    0\n",
       "Revenue                    0\n",
       "dtype: int64"
      ]
     },
     "execution_count": 6,
     "metadata": {},
     "output_type": "execute_result"
    }
   ],
   "source": [
    "#We just have few NAN in our dataset so we'll just delete them.  \n",
    "XY.isnull().sum()"
   ]
  },
  {
   "cell_type": "code",
   "execution_count": 7,
   "metadata": {
    "execution": {
     "iopub.execute_input": "2020-10-28T01:44:56.027474Z",
     "iopub.status.busy": "2020-10-28T01:44:56.026552Z",
     "iopub.status.idle": "2020-10-28T01:44:56.045033Z",
     "shell.execute_reply": "2020-10-28T01:44:56.044381Z"
    },
    "papermill": {
     "duration": 0.120706,
     "end_time": "2020-10-28T01:44:56.045155",
     "exception": false,
     "start_time": "2020-10-28T01:44:55.924449",
     "status": "completed"
    },
    "tags": []
   },
   "outputs": [
    {
     "data": {
      "text/plain": [
       "Administrative             0\n",
       "Administrative_Duration    0\n",
       "Informational              0\n",
       "Informational_Duration     0\n",
       "ProductRelated             0\n",
       "ProductRelated_Duration    0\n",
       "BounceRates                0\n",
       "ExitRates                  0\n",
       "PageValues                 0\n",
       "SpecialDay                 0\n",
       "Month                      0\n",
       "OperatingSystems           0\n",
       "Browser                    0\n",
       "Region                     0\n",
       "TrafficType                0\n",
       "VisitorType                0\n",
       "Weekend                    0\n",
       "Revenue                    0\n",
       "dtype: int64"
      ]
     },
     "execution_count": 7,
     "metadata": {},
     "output_type": "execute_result"
    }
   ],
   "source": [
    "XY = XY.dropna()\n",
    "XY.isnull().sum()\n",
    "#Now we dont have nan."
   ]
  },
  {
   "cell_type": "markdown",
   "metadata": {
    "papermill": {
     "duration": 0.094794,
     "end_time": "2020-10-28T01:44:56.233458",
     "exception": false,
     "start_time": "2020-10-28T01:44:56.138664",
     "status": "completed"
    },
    "tags": []
   },
   "source": [
    "## <center> Our next important step is analyze column by column, looking for stranger values"
   ]
  },
  {
   "cell_type": "code",
   "execution_count": 8,
   "metadata": {
    "execution": {
     "iopub.execute_input": "2020-10-28T01:44:56.424225Z",
     "iopub.status.busy": "2020-10-28T01:44:56.423183Z",
     "iopub.status.idle": "2020-10-28T01:44:56.426639Z",
     "shell.execute_reply": "2020-10-28T01:44:56.425794Z"
    },
    "papermill": {
     "duration": 0.102078,
     "end_time": "2020-10-28T01:44:56.426768",
     "exception": false,
     "start_time": "2020-10-28T01:44:56.324690",
     "status": "completed"
    },
    "tags": []
   },
   "outputs": [],
   "source": [
    "#Function for describe every column:\n",
    "\n",
    "def describe_column(df, col):\n",
    "    print(f'Columna: {col}  -  Tipo de datos: {df[col].dtype}')\n",
    "    print(f'Número de valores nulos: {df[col].isnull().sum()}  -  Número de valores distintos: {df[col].nunique()}')\n",
    "    print('Valores más frecuentes:')\n",
    "    for i, v in df[col].value_counts().iloc[:20].items() :\n",
    "        print(i, '\\t', v)"
   ]
  },
  {
   "cell_type": "code",
   "execution_count": 9,
   "metadata": {
    "execution": {
     "iopub.execute_input": "2020-10-28T01:44:56.616251Z",
     "iopub.status.busy": "2020-10-28T01:44:56.615456Z",
     "iopub.status.idle": "2020-10-28T01:44:56.625121Z",
     "shell.execute_reply": "2020-10-28T01:44:56.623980Z"
    },
    "papermill": {
     "duration": 0.107007,
     "end_time": "2020-10-28T01:44:56.625331",
     "exception": false,
     "start_time": "2020-10-28T01:44:56.518324",
     "status": "completed"
    },
    "tags": []
   },
   "outputs": [
    {
     "name": "stdout",
     "output_type": "stream",
     "text": [
      "Columna: Administrative  -  Tipo de datos: int64\n",
      "Número de valores nulos: 0  -  Número de valores distintos: 27\n",
      "Valores más frecuentes:\n",
      "0 \t 5768\n",
      "1 \t 1354\n",
      "2 \t 1114\n",
      "3 \t 915\n",
      "4 \t 765\n",
      "5 \t 575\n",
      "6 \t 432\n",
      "7 \t 338\n",
      "8 \t 287\n",
      "9 \t 225\n",
      "10 \t 153\n",
      "11 \t 105\n",
      "12 \t 86\n",
      "13 \t 56\n",
      "14 \t 44\n",
      "15 \t 38\n",
      "16 \t 24\n",
      "17 \t 16\n",
      "18 \t 12\n",
      "19 \t 6\n"
     ]
    }
   ],
   "source": [
    "describe_column(XY, 'Administrative')\n",
    "#All looks good."
   ]
  },
  {
   "cell_type": "code",
   "execution_count": 10,
   "metadata": {
    "execution": {
     "iopub.execute_input": "2020-10-28T01:44:56.815847Z",
     "iopub.status.busy": "2020-10-28T01:44:56.814826Z",
     "iopub.status.idle": "2020-10-28T01:44:56.826367Z",
     "shell.execute_reply": "2020-10-28T01:44:56.825590Z"
    },
    "papermill": {
     "duration": 0.108573,
     "end_time": "2020-10-28T01:44:56.826508",
     "exception": false,
     "start_time": "2020-10-28T01:44:56.717935",
     "status": "completed"
    },
    "tags": []
   },
   "outputs": [
    {
     "name": "stdout",
     "output_type": "stream",
     "text": [
      "Columna: Administrative_Duration  -  Tipo de datos: float64\n",
      "Número de valores nulos: 0  -  Número de valores distintos: 3335\n",
      "Valores más frecuentes:\n",
      "0.0 \t 5903\n",
      "4.0 \t 56\n",
      "5.0 \t 53\n",
      "7.0 \t 45\n",
      "11.0 \t 42\n",
      "6.0 \t 41\n",
      "14.0 \t 37\n",
      "9.0 \t 35\n",
      "15.0 \t 33\n",
      "10.0 \t 32\n",
      "19.0 \t 29\n",
      "13.0 \t 29\n",
      "12.0 \t 28\n",
      "21.0 \t 28\n",
      "8.0 \t 26\n",
      "3.0 \t 26\n",
      "18.0 \t 26\n",
      "20.0 \t 26\n",
      "17.0 \t 25\n",
      "37.0 \t 24\n"
     ]
    }
   ],
   "source": [
    "describe_column(XY, 'Administrative_Duration')\n",
    "# Since this columns tell us the time spent on certain type of page, a -1 value\n",
    "# its a strange value, then we can infer that '-1' represent nan values also.  \n",
    "# we will take a look."
   ]
  },
  {
   "cell_type": "code",
   "execution_count": 11,
   "metadata": {
    "execution": {
     "iopub.execute_input": "2020-10-28T01:44:57.022226Z",
     "iopub.status.busy": "2020-10-28T01:44:57.020874Z",
     "iopub.status.idle": "2020-10-28T01:44:57.026531Z",
     "shell.execute_reply": "2020-10-28T01:44:57.025682Z"
    },
    "papermill": {
     "duration": 0.106234,
     "end_time": "2020-10-28T01:44:57.026673",
     "exception": false,
     "start_time": "2020-10-28T01:44:56.920439",
     "status": "completed"
    },
    "tags": []
   },
   "outputs": [],
   "source": [
    "menos_1 = XY['Administrative_Duration'] == -1\n",
    "menos_uno = XY[menos_1]"
   ]
  },
  {
   "cell_type": "code",
   "execution_count": 12,
   "metadata": {
    "execution": {
     "iopub.execute_input": "2020-10-28T01:44:57.225009Z",
     "iopub.status.busy": "2020-10-28T01:44:57.223903Z",
     "iopub.status.idle": "2020-10-28T01:44:57.228060Z",
     "shell.execute_reply": "2020-10-28T01:44:57.228804Z"
    },
    "papermill": {
     "duration": 0.108679,
     "end_time": "2020-10-28T01:44:57.228982",
     "exception": false,
     "start_time": "2020-10-28T01:44:57.120303",
     "status": "completed"
    },
    "tags": []
   },
   "outputs": [
    {
     "data": {
      "text/html": [
       "<div>\n",
       "<style scoped>\n",
       "    .dataframe tbody tr th:only-of-type {\n",
       "        vertical-align: middle;\n",
       "    }\n",
       "\n",
       "    .dataframe tbody tr th {\n",
       "        vertical-align: top;\n",
       "    }\n",
       "\n",
       "    .dataframe thead th {\n",
       "        text-align: right;\n",
       "    }\n",
       "</style>\n",
       "<table border=\"1\" class=\"dataframe\">\n",
       "  <thead>\n",
       "    <tr style=\"text-align: right;\">\n",
       "      <th></th>\n",
       "      <th>Administrative</th>\n",
       "      <th>Administrative_Duration</th>\n",
       "      <th>Informational</th>\n",
       "      <th>Informational_Duration</th>\n",
       "      <th>ProductRelated</th>\n",
       "      <th>ProductRelated_Duration</th>\n",
       "      <th>BounceRates</th>\n",
       "      <th>ExitRates</th>\n",
       "      <th>PageValues</th>\n",
       "      <th>SpecialDay</th>\n",
       "      <th>Month</th>\n",
       "      <th>OperatingSystems</th>\n",
       "      <th>Browser</th>\n",
       "      <th>Region</th>\n",
       "      <th>TrafficType</th>\n",
       "      <th>VisitorType</th>\n",
       "      <th>Weekend</th>\n",
       "      <th>Revenue</th>\n",
       "    </tr>\n",
       "  </thead>\n",
       "  <tbody>\n",
       "  </tbody>\n",
       "</table>\n",
       "</div>"
      ],
      "text/plain": [
       "Empty DataFrame\n",
       "Columns: [Administrative, Administrative_Duration, Informational, Informational_Duration, ProductRelated, ProductRelated_Duration, BounceRates, ExitRates, PageValues, SpecialDay, Month, OperatingSystems, Browser, Region, TrafficType, VisitorType, Weekend, Revenue]\n",
       "Index: []"
      ]
     },
     "execution_count": 12,
     "metadata": {},
     "output_type": "execute_result"
    }
   ],
   "source": [
    "menos_uno.head(3)"
   ]
  },
  {
   "cell_type": "markdown",
   "metadata": {
    "papermill": {
     "duration": 0.092365,
     "end_time": "2020-10-28T01:44:57.414747",
     "exception": false,
     "start_time": "2020-10-28T01:44:57.322382",
     "status": "completed"
    },
    "tags": []
   },
   "source": [
    "All this '-1' looks like wrong values so we'll drop them. We can do it without problems, because there are just few values and looks like there are conected with other -1 values in the nexts columns."
   ]
  },
  {
   "cell_type": "code",
   "execution_count": 13,
   "metadata": {
    "execution": {
     "iopub.execute_input": "2020-10-28T01:44:57.609244Z",
     "iopub.status.busy": "2020-10-28T01:44:57.608415Z",
     "iopub.status.idle": "2020-10-28T01:44:57.616605Z",
     "shell.execute_reply": "2020-10-28T01:44:57.615843Z"
    },
    "papermill": {
     "duration": 0.108987,
     "end_time": "2020-10-28T01:44:57.616735",
     "exception": false,
     "start_time": "2020-10-28T01:44:57.507748",
     "status": "completed"
    },
    "tags": []
   },
   "outputs": [],
   "source": [
    "XY = XY.drop(XY[XY['Administrative_Duration']==-1].index)"
   ]
  },
  {
   "cell_type": "code",
   "execution_count": 14,
   "metadata": {
    "execution": {
     "iopub.execute_input": "2020-10-28T01:44:57.810215Z",
     "iopub.status.busy": "2020-10-28T01:44:57.809467Z",
     "iopub.status.idle": "2020-10-28T01:44:57.820690Z",
     "shell.execute_reply": "2020-10-28T01:44:57.821359Z"
    },
    "papermill": {
     "duration": 0.110743,
     "end_time": "2020-10-28T01:44:57.821555",
     "exception": false,
     "start_time": "2020-10-28T01:44:57.710812",
     "status": "completed"
    },
    "tags": []
   },
   "outputs": [
    {
     "name": "stdout",
     "output_type": "stream",
     "text": [
      "Columna: Administrative_Duration  -  Tipo de datos: float64\n",
      "Número de valores nulos: 0  -  Número de valores distintos: 3335\n",
      "Valores más frecuentes:\n",
      "0.0 \t 5903\n",
      "4.0 \t 56\n",
      "5.0 \t 53\n",
      "7.0 \t 45\n",
      "11.0 \t 42\n",
      "6.0 \t 41\n",
      "14.0 \t 37\n",
      "9.0 \t 35\n",
      "15.0 \t 33\n",
      "10.0 \t 32\n",
      "19.0 \t 29\n",
      "13.0 \t 29\n",
      "12.0 \t 28\n",
      "21.0 \t 28\n",
      "8.0 \t 26\n",
      "3.0 \t 26\n",
      "18.0 \t 26\n",
      "20.0 \t 26\n",
      "17.0 \t 25\n",
      "37.0 \t 24\n"
     ]
    }
   ],
   "source": [
    "#Now our columns looks better. \n",
    "describe_column(XY, 'Administrative_Duration')"
   ]
  },
  {
   "cell_type": "code",
   "execution_count": 15,
   "metadata": {
    "execution": {
     "iopub.execute_input": "2020-10-28T01:44:58.018356Z",
     "iopub.status.busy": "2020-10-28T01:44:58.017512Z",
     "iopub.status.idle": "2020-10-28T01:44:58.033173Z",
     "shell.execute_reply": "2020-10-28T01:44:58.032529Z"
    },
    "papermill": {
     "duration": 0.117845,
     "end_time": "2020-10-28T01:44:58.033341",
     "exception": false,
     "start_time": "2020-10-28T01:44:57.915496",
     "status": "completed"
    },
    "tags": []
   },
   "outputs": [
    {
     "name": "stdout",
     "output_type": "stream",
     "text": [
      "Columna: Informational  -  Tipo de datos: int64\n",
      "Número de valores nulos: 0  -  Número de valores distintos: 17\n",
      "Valores más frecuentes:\n",
      "0 \t 9699\n",
      "1 \t 1041\n",
      "2 \t 728\n",
      "3 \t 380\n",
      "4 \t 222\n",
      "5 \t 99\n",
      "6 \t 78\n",
      "7 \t 36\n",
      "9 \t 15\n",
      "8 \t 14\n",
      "10 \t 7\n",
      "12 \t 5\n",
      "14 \t 2\n",
      "11 \t 1\n",
      "13 \t 1\n",
      "24 \t 1\n",
      "16 \t 1\n"
     ]
    }
   ],
   "source": [
    "describe_column(XY, 'Informational') #All perfect. Next one"
   ]
  },
  {
   "cell_type": "code",
   "execution_count": 16,
   "metadata": {
    "execution": {
     "iopub.execute_input": "2020-10-28T01:44:58.234136Z",
     "iopub.status.busy": "2020-10-28T01:44:58.232870Z",
     "iopub.status.idle": "2020-10-28T01:44:58.244897Z",
     "shell.execute_reply": "2020-10-28T01:44:58.243703Z"
    },
    "papermill": {
     "duration": 0.114509,
     "end_time": "2020-10-28T01:44:58.245105",
     "exception": false,
     "start_time": "2020-10-28T01:44:58.130596",
     "status": "completed"
    },
    "tags": []
   },
   "outputs": [
    {
     "name": "stdout",
     "output_type": "stream",
     "text": [
      "Columna: Informational_Duration  -  Tipo de datos: float64\n",
      "Número de valores nulos: 0  -  Número de valores distintos: 1258\n",
      "Valores más frecuentes:\n",
      "0.0 \t 9925\n",
      "9.0 \t 33\n",
      "6.0 \t 26\n",
      "10.0 \t 26\n",
      "7.0 \t 26\n",
      "13.0 \t 23\n",
      "12.0 \t 23\n",
      "8.0 \t 22\n",
      "16.0 \t 22\n",
      "11.0 \t 21\n",
      "17.0 \t 18\n",
      "15.0 \t 18\n",
      "5.0 \t 18\n",
      "23.0 \t 17\n",
      "4.0 \t 17\n",
      "14.0 \t 17\n",
      "18.0 \t 17\n",
      "3.0 \t 16\n",
      "20.0 \t 14\n",
      "21.0 \t 14\n"
     ]
    }
   ],
   "source": [
    "describe_column(XY, 'Informational_Duration') #All perfect. Next one"
   ]
  },
  {
   "cell_type": "code",
   "execution_count": 17,
   "metadata": {
    "execution": {
     "iopub.execute_input": "2020-10-28T01:44:58.444728Z",
     "iopub.status.busy": "2020-10-28T01:44:58.443685Z",
     "iopub.status.idle": "2020-10-28T01:44:58.453840Z",
     "shell.execute_reply": "2020-10-28T01:44:58.453143Z"
    },
    "papermill": {
     "duration": 0.111403,
     "end_time": "2020-10-28T01:44:58.453981",
     "exception": false,
     "start_time": "2020-10-28T01:44:58.342578",
     "status": "completed"
    },
    "tags": []
   },
   "outputs": [
    {
     "name": "stdout",
     "output_type": "stream",
     "text": [
      "Columna: ProductRelated  -  Tipo de datos: int64\n",
      "Número de valores nulos: 0  -  Número de valores distintos: 311\n",
      "Valores más frecuentes:\n",
      "1 \t 622\n",
      "2 \t 465\n",
      "3 \t 458\n",
      "4 \t 404\n",
      "6 \t 396\n",
      "7 \t 391\n",
      "5 \t 382\n",
      "8 \t 370\n",
      "10 \t 330\n",
      "9 \t 317\n",
      "12 \t 313\n",
      "11 \t 308\n",
      "13 \t 289\n",
      "15 \t 270\n",
      "16 \t 260\n",
      "14 \t 251\n",
      "17 \t 226\n",
      "20 \t 225\n",
      "19 \t 218\n",
      "22 \t 213\n"
     ]
    }
   ],
   "source": [
    "describe_column(XY, 'ProductRelated') #All perfect. Next one"
   ]
  },
  {
   "cell_type": "code",
   "execution_count": 18,
   "metadata": {
    "execution": {
     "iopub.execute_input": "2020-10-28T01:44:58.651561Z",
     "iopub.status.busy": "2020-10-28T01:44:58.650422Z",
     "iopub.status.idle": "2020-10-28T01:44:58.663854Z",
     "shell.execute_reply": "2020-10-28T01:44:58.662723Z"
    },
    "papermill": {
     "duration": 0.114834,
     "end_time": "2020-10-28T01:44:58.664044",
     "exception": false,
     "start_time": "2020-10-28T01:44:58.549210",
     "status": "completed"
    },
    "tags": []
   },
   "outputs": [
    {
     "name": "stdout",
     "output_type": "stream",
     "text": [
      "Columna: ProductRelated_Duration  -  Tipo de datos: float64\n",
      "Número de valores nulos: 0  -  Número de valores distintos: 9551\n",
      "Valores más frecuentes:\n",
      "0.0 \t 755\n",
      "17.0 \t 21\n",
      "8.0 \t 17\n",
      "11.0 \t 17\n",
      "15.0 \t 16\n",
      "19.0 \t 15\n",
      "22.0 \t 15\n",
      "12.0 \t 15\n",
      "7.0 \t 14\n",
      "13.0 \t 14\n",
      "5.0 \t 13\n",
      "24.0 \t 13\n",
      "14.0 \t 13\n",
      "59.0 \t 12\n",
      "34.0 \t 12\n",
      "25.0 \t 12\n",
      "36.0 \t 11\n",
      "50.0 \t 11\n",
      "20.0 \t 10\n",
      "64.0 \t 10\n"
     ]
    }
   ],
   "source": [
    "describe_column(XY, 'ProductRelated_Duration') #All perfect. Next one"
   ]
  },
  {
   "cell_type": "code",
   "execution_count": 19,
   "metadata": {
    "execution": {
     "iopub.execute_input": "2020-10-28T01:44:58.864741Z",
     "iopub.status.busy": "2020-10-28T01:44:58.863955Z",
     "iopub.status.idle": "2020-10-28T01:44:58.873267Z",
     "shell.execute_reply": "2020-10-28T01:44:58.874092Z"
    },
    "papermill": {
     "duration": 0.112344,
     "end_time": "2020-10-28T01:44:58.874401",
     "exception": false,
     "start_time": "2020-10-28T01:44:58.762057",
     "status": "completed"
    },
    "tags": []
   },
   "outputs": [
    {
     "name": "stdout",
     "output_type": "stream",
     "text": [
      "Columna: BounceRates  -  Tipo de datos: float64\n",
      "Número de valores nulos: 0  -  Número de valores distintos: 1872\n",
      "Valores más frecuentes:\n",
      "0.0 \t 5518\n",
      "0.2 \t 700\n",
      "0.066666667 \t 134\n",
      "0.028571429 \t 115\n",
      "0.05 \t 113\n",
      "0.033333333 \t 101\n",
      "0.025 \t 100\n",
      "0.016666667 \t 99\n",
      "0.1 \t 98\n",
      "0.04 \t 96\n",
      "0.02 \t 91\n",
      "0.022222222000000003 \t 88\n",
      "0.0125 \t 85\n",
      "0.018181818 \t 81\n",
      "0.015384615 \t 76\n",
      "0.014285714 \t 73\n",
      "0.008333333 \t 72\n",
      "0.011111111000000002 \t 62\n",
      "0.01 \t 61\n",
      "0.013333333000000001 \t 54\n"
     ]
    }
   ],
   "source": [
    "describe_column(XY, 'BounceRates') #All perfect. Next one"
   ]
  },
  {
   "cell_type": "code",
   "execution_count": 20,
   "metadata": {
    "execution": {
     "iopub.execute_input": "2020-10-28T01:44:59.079108Z",
     "iopub.status.busy": "2020-10-28T01:44:59.078304Z",
     "iopub.status.idle": "2020-10-28T01:44:59.089098Z",
     "shell.execute_reply": "2020-10-28T01:44:59.087939Z"
    },
    "papermill": {
     "duration": 0.115618,
     "end_time": "2020-10-28T01:44:59.089313",
     "exception": false,
     "start_time": "2020-10-28T01:44:58.973695",
     "status": "completed"
    },
    "tags": []
   },
   "outputs": [
    {
     "name": "stdout",
     "output_type": "stream",
     "text": [
      "Columna: ExitRates  -  Tipo de datos: float64\n",
      "Número de valores nulos: 0  -  Número de valores distintos: 4777\n",
      "Valores más frecuentes:\n",
      "0.2 \t 710\n",
      "0.1 \t 338\n",
      "0.05 \t 329\n",
      "0.033333333 \t 291\n",
      "0.066666667 \t 267\n",
      "0.025 \t 224\n",
      "0.04 \t 214\n",
      "0.016666667 \t 181\n",
      "0.02 \t 167\n",
      "0.022222222000000003 \t 152\n",
      "0.028571429 \t 150\n",
      "0.014285714 \t 118\n",
      "0.0125 \t 112\n",
      "0.011111111000000002 \t 103\n",
      "0.013333333000000001 \t 87\n",
      "0.018181818 \t 87\n",
      "0.015384615 \t 83\n",
      "0.008333333 \t 78\n",
      "0.0 \t 76\n",
      "0.01 \t 70\n"
     ]
    }
   ],
   "source": [
    "describe_column(XY, 'ExitRates') #All perfect. Next one"
   ]
  },
  {
   "cell_type": "code",
   "execution_count": 21,
   "metadata": {
    "execution": {
     "iopub.execute_input": "2020-10-28T01:44:59.365517Z",
     "iopub.status.busy": "2020-10-28T01:44:59.364754Z",
     "iopub.status.idle": "2020-10-28T01:44:59.374702Z",
     "shell.execute_reply": "2020-10-28T01:44:59.375540Z"
    },
    "papermill": {
     "duration": 0.118019,
     "end_time": "2020-10-28T01:44:59.375764",
     "exception": false,
     "start_time": "2020-10-28T01:44:59.257745",
     "status": "completed"
    },
    "tags": []
   },
   "outputs": [
    {
     "name": "stdout",
     "output_type": "stream",
     "text": [
      "Columna: PageValues  -  Tipo de datos: float64\n",
      "Número de valores nulos: 0  -  Número de valores distintos: 2704\n",
      "Valores más frecuentes:\n",
      "0.0 \t 9600\n",
      "53.988 \t 6\n",
      "42.29306752 \t 3\n",
      "40.27815244 \t 2\n",
      "12.55885714 \t 2\n",
      "44.89345937 \t 2\n",
      "58.9241766 \t 2\n",
      "16.158558199999998 \t 2\n",
      "10.99901844 \t 2\n",
      "21.2112655 \t 2\n",
      "26.5455 \t 2\n",
      "59.988 \t 2\n",
      "9.084767800000002 \t 2\n",
      "87.90296059999999 \t 2\n",
      "22.738000000000003 \t 2\n",
      "34.03997536 \t 2\n",
      "40.4014481 \t 2\n",
      "54.98 \t 2\n",
      "14.1273698 \t 2\n",
      "78.56959864 \t 2\n"
     ]
    }
   ],
   "source": [
    "describe_column(XY, 'PageValues') #All perfect. Next one"
   ]
  },
  {
   "cell_type": "code",
   "execution_count": 22,
   "metadata": {
    "execution": {
     "iopub.execute_input": "2020-10-28T01:44:59.581944Z",
     "iopub.status.busy": "2020-10-28T01:44:59.580625Z",
     "iopub.status.idle": "2020-10-28T01:44:59.591160Z",
     "shell.execute_reply": "2020-10-28T01:44:59.589906Z"
    },
    "papermill": {
     "duration": 0.116245,
     "end_time": "2020-10-28T01:44:59.591352",
     "exception": false,
     "start_time": "2020-10-28T01:44:59.475107",
     "status": "completed"
    },
    "tags": []
   },
   "outputs": [
    {
     "name": "stdout",
     "output_type": "stream",
     "text": [
      "Columna: SpecialDay  -  Tipo de datos: float64\n",
      "Número de valores nulos: 0  -  Número de valores distintos: 6\n",
      "Valores más frecuentes:\n",
      "0.0 \t 11079\n",
      "0.6 \t 351\n",
      "0.8 \t 325\n",
      "0.4 \t 243\n",
      "0.2 \t 178\n",
      "1.0 \t 154\n"
     ]
    }
   ],
   "source": [
    "describe_column(XY, 'SpecialDay') #All perfect. Next one"
   ]
  },
  {
   "cell_type": "code",
   "execution_count": 23,
   "metadata": {
    "execution": {
     "iopub.execute_input": "2020-10-28T01:44:59.807768Z",
     "iopub.status.busy": "2020-10-28T01:44:59.806977Z",
     "iopub.status.idle": "2020-10-28T01:44:59.811171Z",
     "shell.execute_reply": "2020-10-28T01:44:59.810517Z"
    },
    "papermill": {
     "duration": 0.118457,
     "end_time": "2020-10-28T01:44:59.811321",
     "exception": false,
     "start_time": "2020-10-28T01:44:59.692864",
     "status": "completed"
    },
    "tags": []
   },
   "outputs": [
    {
     "name": "stdout",
     "output_type": "stream",
     "text": [
      "Columna: Month  -  Tipo de datos: object\n",
      "Número de valores nulos: 0  -  Número de valores distintos: 10\n",
      "Valores más frecuentes:\n",
      "May \t 3364\n",
      "Nov \t 2998\n",
      "Mar \t 1907\n",
      "Dec \t 1727\n",
      "Oct \t 549\n",
      "Sep \t 448\n",
      "Aug \t 433\n",
      "Jul \t 432\n",
      "June \t 288\n",
      "Feb \t 184\n"
     ]
    }
   ],
   "source": [
    "describe_column(XY, 'Month') #We have two months left. "
   ]
  },
  {
   "cell_type": "code",
   "execution_count": 24,
   "metadata": {
    "execution": {
     "iopub.execute_input": "2020-10-28T01:45:00.017934Z",
     "iopub.status.busy": "2020-10-28T01:45:00.016437Z",
     "iopub.status.idle": "2020-10-28T01:45:00.026339Z",
     "shell.execute_reply": "2020-10-28T01:45:00.027251Z"
    },
    "papermill": {
     "duration": 0.117327,
     "end_time": "2020-10-28T01:45:00.027514",
     "exception": false,
     "start_time": "2020-10-28T01:44:59.910187",
     "status": "completed"
    },
    "tags": []
   },
   "outputs": [
    {
     "name": "stdout",
     "output_type": "stream",
     "text": [
      "Columna: OperatingSystems  -  Tipo de datos: int64\n",
      "Número de valores nulos: 0  -  Número de valores distintos: 8\n",
      "Valores más frecuentes:\n",
      "2 \t 6601\n",
      "1 \t 2585\n",
      "3 \t 2555\n",
      "4 \t 478\n",
      "8 \t 79\n",
      "6 \t 19\n",
      "7 \t 7\n",
      "5 \t 6\n"
     ]
    }
   ],
   "source": [
    "describe_column(XY, 'OperatingSystems') #Ok"
   ]
  },
  {
   "cell_type": "code",
   "execution_count": 25,
   "metadata": {
    "execution": {
     "iopub.execute_input": "2020-10-28T01:45:00.241138Z",
     "iopub.status.busy": "2020-10-28T01:45:00.239830Z",
     "iopub.status.idle": "2020-10-28T01:45:00.248442Z",
     "shell.execute_reply": "2020-10-28T01:45:00.247650Z"
    },
    "papermill": {
     "duration": 0.116407,
     "end_time": "2020-10-28T01:45:00.248581",
     "exception": false,
     "start_time": "2020-10-28T01:45:00.132174",
     "status": "completed"
    },
    "tags": []
   },
   "outputs": [
    {
     "name": "stdout",
     "output_type": "stream",
     "text": [
      "Columna: Browser  -  Tipo de datos: int64\n",
      "Número de valores nulos: 0  -  Número de valores distintos: 13\n",
      "Valores más frecuentes:\n",
      "2 \t 7961\n",
      "1 \t 2462\n",
      "4 \t 736\n",
      "5 \t 467\n",
      "6 \t 174\n",
      "10 \t 163\n",
      "8 \t 135\n",
      "3 \t 105\n",
      "13 \t 61\n",
      "7 \t 49\n",
      "12 \t 10\n",
      "11 \t 6\n",
      "9 \t 1\n"
     ]
    }
   ],
   "source": [
    "describe_column(XY, 'Browser') #Ok"
   ]
  },
  {
   "cell_type": "code",
   "execution_count": 26,
   "metadata": {
    "execution": {
     "iopub.execute_input": "2020-10-28T01:45:00.460186Z",
     "iopub.status.busy": "2020-10-28T01:45:00.459323Z",
     "iopub.status.idle": "2020-10-28T01:45:00.466356Z",
     "shell.execute_reply": "2020-10-28T01:45:00.467998Z"
    },
    "papermill": {
     "duration": 0.118702,
     "end_time": "2020-10-28T01:45:00.468242",
     "exception": false,
     "start_time": "2020-10-28T01:45:00.349540",
     "status": "completed"
    },
    "tags": []
   },
   "outputs": [
    {
     "name": "stdout",
     "output_type": "stream",
     "text": [
      "Columna: Region  -  Tipo de datos: int64\n",
      "Número de valores nulos: 0  -  Número de valores distintos: 9\n",
      "Valores más frecuentes:\n",
      "1 \t 4780\n",
      "3 \t 2403\n",
      "4 \t 1182\n",
      "2 \t 1136\n",
      "6 \t 805\n",
      "7 \t 761\n",
      "9 \t 511\n",
      "8 \t 434\n",
      "5 \t 318\n"
     ]
    }
   ],
   "source": [
    "describe_column(XY, 'Region') #Ok"
   ]
  },
  {
   "cell_type": "code",
   "execution_count": 27,
   "metadata": {
    "execution": {
     "iopub.execute_input": "2020-10-28T01:45:00.679306Z",
     "iopub.status.busy": "2020-10-28T01:45:00.678474Z",
     "iopub.status.idle": "2020-10-28T01:45:00.687148Z",
     "shell.execute_reply": "2020-10-28T01:45:00.687961Z"
    },
    "papermill": {
     "duration": 0.116547,
     "end_time": "2020-10-28T01:45:00.688162",
     "exception": false,
     "start_time": "2020-10-28T01:45:00.571615",
     "status": "completed"
    },
    "tags": []
   },
   "outputs": [
    {
     "name": "stdout",
     "output_type": "stream",
     "text": [
      "Columna: TrafficType  -  Tipo de datos: int64\n",
      "Número de valores nulos: 0  -  Número de valores distintos: 20\n",
      "Valores más frecuentes:\n",
      "2 \t 3913\n",
      "1 \t 2451\n",
      "3 \t 2052\n",
      "4 \t 1069\n",
      "13 \t 738\n",
      "10 \t 450\n",
      "6 \t 444\n",
      "8 \t 343\n",
      "5 \t 260\n",
      "11 \t 247\n",
      "20 \t 198\n",
      "9 \t 42\n",
      "7 \t 40\n",
      "15 \t 38\n",
      "19 \t 17\n",
      "14 \t 13\n",
      "18 \t 10\n",
      "16 \t 3\n",
      "12 \t 1\n",
      "17 \t 1\n"
     ]
    }
   ],
   "source": [
    "describe_column(XY, 'TrafficType') #Ok"
   ]
  },
  {
   "cell_type": "code",
   "execution_count": 28,
   "metadata": {
    "execution": {
     "iopub.execute_input": "2020-10-28T01:45:00.901587Z",
     "iopub.status.busy": "2020-10-28T01:45:00.900565Z",
     "iopub.status.idle": "2020-10-28T01:45:00.911262Z",
     "shell.execute_reply": "2020-10-28T01:45:00.912232Z"
    },
    "papermill": {
     "duration": 0.122133,
     "end_time": "2020-10-28T01:45:00.912452",
     "exception": false,
     "start_time": "2020-10-28T01:45:00.790319",
     "status": "completed"
    },
    "tags": []
   },
   "outputs": [
    {
     "name": "stdout",
     "output_type": "stream",
     "text": [
      "Columna: VisitorType  -  Tipo de datos: object\n",
      "Número de valores nulos: 0  -  Número de valores distintos: 3\n",
      "Valores más frecuentes:\n",
      "Returning_Visitor \t 10551\n",
      "New_Visitor \t 1694\n",
      "Other \t 85\n"
     ]
    }
   ],
   "source": [
    "describe_column(XY, 'VisitorType') #This 'other' values looks suspicius. But ill keep\n",
    "#them for the moment. "
   ]
  },
  {
   "cell_type": "code",
   "execution_count": 29,
   "metadata": {
    "execution": {
     "iopub.execute_input": "2020-10-28T01:45:01.124588Z",
     "iopub.status.busy": "2020-10-28T01:45:01.123467Z",
     "iopub.status.idle": "2020-10-28T01:45:01.132223Z",
     "shell.execute_reply": "2020-10-28T01:45:01.131555Z"
    },
    "papermill": {
     "duration": 0.117547,
     "end_time": "2020-10-28T01:45:01.132368",
     "exception": false,
     "start_time": "2020-10-28T01:45:01.014821",
     "status": "completed"
    },
    "tags": []
   },
   "outputs": [
    {
     "name": "stdout",
     "output_type": "stream",
     "text": [
      "Columna: Weekend  -  Tipo de datos: bool\n",
      "Número de valores nulos: 0  -  Número de valores distintos: 2\n",
      "Valores más frecuentes:\n",
      "False \t 9462\n",
      "True \t 2868\n"
     ]
    }
   ],
   "source": [
    "describe_column(XY, 'Weekend')"
   ]
  },
  {
   "cell_type": "code",
   "execution_count": 30,
   "metadata": {
    "execution": {
     "iopub.execute_input": "2020-10-28T01:45:01.351853Z",
     "iopub.status.busy": "2020-10-28T01:45:01.350722Z",
     "iopub.status.idle": "2020-10-28T01:45:01.358585Z",
     "shell.execute_reply": "2020-10-28T01:45:01.357764Z"
    },
    "papermill": {
     "duration": 0.120035,
     "end_time": "2020-10-28T01:45:01.358750",
     "exception": false,
     "start_time": "2020-10-28T01:45:01.238715",
     "status": "completed"
    },
    "tags": []
   },
   "outputs": [
    {
     "name": "stdout",
     "output_type": "stream",
     "text": [
      "Columna: Revenue  -  Tipo de datos: bool\n",
      "Número de valores nulos: 0  -  Número de valores distintos: 2\n",
      "Valores más frecuentes:\n",
      "False \t 10422\n",
      "True \t 1908\n"
     ]
    }
   ],
   "source": [
    "describe_column(XY, 'Revenue')"
   ]
  },
  {
   "cell_type": "markdown",
   "metadata": {
    "papermill": {
     "duration": 0.105237,
     "end_time": "2020-10-28T01:45:01.567914",
     "exception": false,
     "start_time": "2020-10-28T01:45:01.462677",
     "status": "completed"
    },
    "tags": []
   },
   "source": [
    "### For graphs our variables, the first step is transform the categorical values to numeric."
   ]
  },
  {
   "cell_type": "code",
   "execution_count": 31,
   "metadata": {
    "execution": {
     "iopub.execute_input": "2020-10-28T01:45:01.789672Z",
     "iopub.status.busy": "2020-10-28T01:45:01.788860Z",
     "iopub.status.idle": "2020-10-28T01:45:01.791678Z",
     "shell.execute_reply": "2020-10-28T01:45:01.792246Z"
    },
    "papermill": {
     "duration": 0.119965,
     "end_time": "2020-10-28T01:45:01.792443",
     "exception": false,
     "start_time": "2020-10-28T01:45:01.672478",
     "status": "completed"
    },
    "tags": []
   },
   "outputs": [],
   "source": [
    "# Transform the booleans object to numeric for our future ML or DL model and graphs\n",
    "XY['Weekend'] = XY['Weekend'].map({False:0, True:1})\n",
    "XY['Revenue'] = XY['Revenue'].map({False:0, True:1})"
   ]
  },
  {
   "cell_type": "markdown",
   "metadata": {
    "papermill": {
     "duration": 0.107473,
     "end_time": "2020-10-28T01:45:02.006101",
     "exception": false,
     "start_time": "2020-10-28T01:45:01.898628",
     "status": "completed"
    },
    "tags": []
   },
   "source": [
    "### For take a desicion about wich method we'll use, first we need to know how many variables have 'Month' and 'VisitorType' colums."
   ]
  },
  {
   "cell_type": "code",
   "execution_count": 32,
   "metadata": {
    "execution": {
     "iopub.execute_input": "2020-10-28T01:45:02.223660Z",
     "iopub.status.busy": "2020-10-28T01:45:02.222853Z",
     "iopub.status.idle": "2020-10-28T01:45:02.228529Z",
     "shell.execute_reply": "2020-10-28T01:45:02.227874Z"
    },
    "papermill": {
     "duration": 0.11516,
     "end_time": "2020-10-28T01:45:02.228660",
     "exception": false,
     "start_time": "2020-10-28T01:45:02.113500",
     "status": "completed"
    },
    "tags": []
   },
   "outputs": [
    {
     "data": {
      "text/plain": [
       "array(['Feb', 'Mar', 'May', 'Oct', 'June', 'Jul', 'Aug', 'Nov', 'Sep',\n",
       "       'Dec'], dtype=object)"
      ]
     },
     "execution_count": 32,
     "metadata": {},
     "output_type": "execute_result"
    }
   ],
   "source": [
    "# 10 categories (Months)\n",
    "XY.Month.unique() "
   ]
  },
  {
   "cell_type": "code",
   "execution_count": 33,
   "metadata": {
    "execution": {
     "iopub.execute_input": "2020-10-28T01:45:02.445700Z",
     "iopub.status.busy": "2020-10-28T01:45:02.444730Z",
     "iopub.status.idle": "2020-10-28T01:45:02.450146Z",
     "shell.execute_reply": "2020-10-28T01:45:02.450693Z"
    },
    "papermill": {
     "duration": 0.116832,
     "end_time": "2020-10-28T01:45:02.450860",
     "exception": false,
     "start_time": "2020-10-28T01:45:02.334028",
     "status": "completed"
    },
    "tags": []
   },
   "outputs": [
    {
     "data": {
      "text/plain": [
       "array(['Returning_Visitor', 'New_Visitor', 'Other'], dtype=object)"
      ]
     },
     "execution_count": 33,
     "metadata": {},
     "output_type": "execute_result"
    }
   ],
   "source": [
    "# Just 3 categories\n",
    "XY.VisitorType.unique()"
   ]
  },
  {
   "cell_type": "markdown",
   "metadata": {
    "papermill": {
     "duration": 0.10491,
     "end_time": "2020-10-28T01:45:02.661432",
     "exception": false,
     "start_time": "2020-10-28T01:45:02.556522",
     "status": "completed"
    },
    "tags": []
   },
   "source": [
    "### Since, we just have 13 categories, use the dummies functions its a good options for our dataframe. In case of have so much more categories values probably we should choose another option.\n",
    "Mainly because the Dummies function adds X amount of columns to our dataframe based on how many categories our base columns have."
   ]
  },
  {
   "cell_type": "code",
   "execution_count": 34,
   "metadata": {
    "execution": {
     "iopub.execute_input": "2020-10-28T01:45:02.878214Z",
     "iopub.status.busy": "2020-10-28T01:45:02.877470Z",
     "iopub.status.idle": "2020-10-28T01:45:02.916997Z",
     "shell.execute_reply": "2020-10-28T01:45:02.916242Z"
    },
    "papermill": {
     "duration": 0.150201,
     "end_time": "2020-10-28T01:45:02.917122",
     "exception": false,
     "start_time": "2020-10-28T01:45:02.766921",
     "status": "completed"
    },
    "tags": []
   },
   "outputs": [
    {
     "data": {
      "text/html": [
       "<div>\n",
       "<style scoped>\n",
       "    .dataframe tbody tr th:only-of-type {\n",
       "        vertical-align: middle;\n",
       "    }\n",
       "\n",
       "    .dataframe tbody tr th {\n",
       "        vertical-align: top;\n",
       "    }\n",
       "\n",
       "    .dataframe thead th {\n",
       "        text-align: right;\n",
       "    }\n",
       "</style>\n",
       "<table border=\"1\" class=\"dataframe\">\n",
       "  <thead>\n",
       "    <tr style=\"text-align: right;\">\n",
       "      <th></th>\n",
       "      <th>Administrative</th>\n",
       "      <th>Administrative_Duration</th>\n",
       "      <th>Informational</th>\n",
       "      <th>Informational_Duration</th>\n",
       "      <th>ProductRelated</th>\n",
       "      <th>ProductRelated_Duration</th>\n",
       "      <th>BounceRates</th>\n",
       "      <th>ExitRates</th>\n",
       "      <th>PageValues</th>\n",
       "      <th>SpecialDay</th>\n",
       "      <th>OperatingSystems</th>\n",
       "      <th>Browser</th>\n",
       "      <th>Region</th>\n",
       "      <th>TrafficType</th>\n",
       "      <th>Weekend</th>\n",
       "      <th>Revenue</th>\n",
       "      <th>Month_Dec</th>\n",
       "      <th>Month_Feb</th>\n",
       "      <th>Month_Jul</th>\n",
       "      <th>Month_June</th>\n",
       "      <th>Month_Mar</th>\n",
       "      <th>Month_May</th>\n",
       "      <th>Month_Nov</th>\n",
       "      <th>Month_Oct</th>\n",
       "      <th>Month_Sep</th>\n",
       "      <th>VisitorType_Other</th>\n",
       "      <th>VisitorType_Returning_Visitor</th>\n",
       "    </tr>\n",
       "  </thead>\n",
       "  <tbody>\n",
       "    <tr>\n",
       "      <th>0</th>\n",
       "      <td>0</td>\n",
       "      <td>0.0</td>\n",
       "      <td>0</td>\n",
       "      <td>0.0</td>\n",
       "      <td>1</td>\n",
       "      <td>0.0</td>\n",
       "      <td>0.2</td>\n",
       "      <td>0.2</td>\n",
       "      <td>0.0</td>\n",
       "      <td>0.0</td>\n",
       "      <td>1</td>\n",
       "      <td>1</td>\n",
       "      <td>1</td>\n",
       "      <td>1</td>\n",
       "      <td>0</td>\n",
       "      <td>0</td>\n",
       "      <td>0</td>\n",
       "      <td>1</td>\n",
       "      <td>0</td>\n",
       "      <td>0</td>\n",
       "      <td>0</td>\n",
       "      <td>0</td>\n",
       "      <td>0</td>\n",
       "      <td>0</td>\n",
       "      <td>0</td>\n",
       "      <td>0</td>\n",
       "      <td>1</td>\n",
       "    </tr>\n",
       "    <tr>\n",
       "      <th>1</th>\n",
       "      <td>0</td>\n",
       "      <td>0.0</td>\n",
       "      <td>0</td>\n",
       "      <td>0.0</td>\n",
       "      <td>2</td>\n",
       "      <td>64.0</td>\n",
       "      <td>0.0</td>\n",
       "      <td>0.1</td>\n",
       "      <td>0.0</td>\n",
       "      <td>0.0</td>\n",
       "      <td>2</td>\n",
       "      <td>2</td>\n",
       "      <td>1</td>\n",
       "      <td>2</td>\n",
       "      <td>0</td>\n",
       "      <td>0</td>\n",
       "      <td>0</td>\n",
       "      <td>1</td>\n",
       "      <td>0</td>\n",
       "      <td>0</td>\n",
       "      <td>0</td>\n",
       "      <td>0</td>\n",
       "      <td>0</td>\n",
       "      <td>0</td>\n",
       "      <td>0</td>\n",
       "      <td>0</td>\n",
       "      <td>1</td>\n",
       "    </tr>\n",
       "    <tr>\n",
       "      <th>2</th>\n",
       "      <td>0</td>\n",
       "      <td>0.0</td>\n",
       "      <td>0</td>\n",
       "      <td>0.0</td>\n",
       "      <td>1</td>\n",
       "      <td>0.0</td>\n",
       "      <td>0.2</td>\n",
       "      <td>0.2</td>\n",
       "      <td>0.0</td>\n",
       "      <td>0.0</td>\n",
       "      <td>4</td>\n",
       "      <td>1</td>\n",
       "      <td>9</td>\n",
       "      <td>3</td>\n",
       "      <td>0</td>\n",
       "      <td>0</td>\n",
       "      <td>0</td>\n",
       "      <td>1</td>\n",
       "      <td>0</td>\n",
       "      <td>0</td>\n",
       "      <td>0</td>\n",
       "      <td>0</td>\n",
       "      <td>0</td>\n",
       "      <td>0</td>\n",
       "      <td>0</td>\n",
       "      <td>0</td>\n",
       "      <td>1</td>\n",
       "    </tr>\n",
       "  </tbody>\n",
       "</table>\n",
       "</div>"
      ],
      "text/plain": [
       "   Administrative  Administrative_Duration  Informational  \\\n",
       "0               0                      0.0              0   \n",
       "1               0                      0.0              0   \n",
       "2               0                      0.0              0   \n",
       "\n",
       "   Informational_Duration  ProductRelated  ProductRelated_Duration  \\\n",
       "0                     0.0               1                      0.0   \n",
       "1                     0.0               2                     64.0   \n",
       "2                     0.0               1                      0.0   \n",
       "\n",
       "   BounceRates  ExitRates  PageValues  SpecialDay  OperatingSystems  Browser  \\\n",
       "0          0.2        0.2         0.0         0.0                 1        1   \n",
       "1          0.0        0.1         0.0         0.0                 2        2   \n",
       "2          0.2        0.2         0.0         0.0                 4        1   \n",
       "\n",
       "   Region  TrafficType  Weekend  Revenue  Month_Dec  Month_Feb  Month_Jul  \\\n",
       "0       1            1        0        0          0          1          0   \n",
       "1       1            2        0        0          0          1          0   \n",
       "2       9            3        0        0          0          1          0   \n",
       "\n",
       "   Month_June  Month_Mar  Month_May  Month_Nov  Month_Oct  Month_Sep  \\\n",
       "0           0          0          0          0          0          0   \n",
       "1           0          0          0          0          0          0   \n",
       "2           0          0          0          0          0          0   \n",
       "\n",
       "   VisitorType_Other  VisitorType_Returning_Visitor  \n",
       "0                  0                              1  \n",
       "1                  0                              1  \n",
       "2                  0                              1  "
      ]
     },
     "execution_count": 34,
     "metadata": {},
     "output_type": "execute_result"
    }
   ],
   "source": [
    "X_D = pd.get_dummies(XY,columns=['Month','VisitorType'],drop_first=True)\n",
    "X_D[:3]"
   ]
  },
  {
   "cell_type": "code",
   "execution_count": 35,
   "metadata": {
    "execution": {
     "iopub.execute_input": "2020-10-28T01:45:03.138129Z",
     "iopub.status.busy": "2020-10-28T01:45:03.137325Z",
     "iopub.status.idle": "2020-10-28T01:45:03.141151Z",
     "shell.execute_reply": "2020-10-28T01:45:03.140542Z"
    },
    "papermill": {
     "duration": 0.118658,
     "end_time": "2020-10-28T01:45:03.141296",
     "exception": false,
     "start_time": "2020-10-28T01:45:03.022638",
     "status": "completed"
    },
    "tags": []
   },
   "outputs": [],
   "source": [
    "X_numeric = XY.drop(columns=['Month', 'VisitorType', 'Revenue'])\n",
    "# We create this DF witouth categories columns for plot"
   ]
  },
  {
   "cell_type": "markdown",
   "metadata": {
    "papermill": {
     "duration": 0.106248,
     "end_time": "2020-10-28T01:45:03.353566",
     "exception": false,
     "start_time": "2020-10-28T01:45:03.247318",
     "status": "completed"
    },
    "tags": []
   },
   "source": [
    "#### <center> We finish, now we'll separete our target Y from the features X "
   ]
  },
  {
   "cell_type": "code",
   "execution_count": 36,
   "metadata": {
    "execution": {
     "iopub.execute_input": "2020-10-28T01:45:03.571236Z",
     "iopub.status.busy": "2020-10-28T01:45:03.570429Z",
     "iopub.status.idle": "2020-10-28T01:45:03.578451Z",
     "shell.execute_reply": "2020-10-28T01:45:03.577627Z"
    },
    "papermill": {
     "duration": 0.119073,
     "end_time": "2020-10-28T01:45:03.578589",
     "exception": false,
     "start_time": "2020-10-28T01:45:03.459516",
     "status": "completed"
    },
    "tags": []
   },
   "outputs": [],
   "source": [
    "X = X_D.drop('Revenue', axis=1)\n",
    "y = X_D['Revenue']"
   ]
  },
  {
   "cell_type": "markdown",
   "metadata": {
    "papermill": {
     "duration": 0.115362,
     "end_time": "2020-10-28T01:45:03.802498",
     "exception": false,
     "start_time": "2020-10-28T01:45:03.687136",
     "status": "completed"
    },
    "tags": []
   },
   "source": [
    "## <center> GRAPHS"
   ]
  },
  {
   "cell_type": "code",
   "execution_count": 37,
   "metadata": {
    "execution": {
     "iopub.execute_input": "2020-10-28T01:45:04.032243Z",
     "iopub.status.busy": "2020-10-28T01:45:04.031268Z",
     "iopub.status.idle": "2020-10-28T01:45:04.825213Z",
     "shell.execute_reply": "2020-10-28T01:45:04.825828Z"
    },
    "papermill": {
     "duration": 0.911217,
     "end_time": "2020-10-28T01:45:04.825984",
     "exception": false,
     "start_time": "2020-10-28T01:45:03.914767",
     "status": "completed"
    },
    "tags": []
   },
   "outputs": [
    {
     "data": {
      "image/png": "[encoded data removed]",
      "text/plain": [
       "<Figure size 1080x504 with 1 Axes>"
      ]
     },
     "metadata": {
      "needs_background": "light"
     },
     "output_type": "display_data"
    }
   ],
   "source": [
    "plt.figure(figsize=(15,7))\n",
    "ax = sns.boxplot(data=X)\n",
    "ax.set_xticklabels(ax.get_xticklabels(),rotation=90)\n",
    "plt.title(u'Representación de cajas de las variables independientes X')\n",
    "plt.ylabel('Valor de la variable normalizada')\n",
    "_ = plt.xlabel('Nombre de la variable')"
   ]
  },
  {
   "cell_type": "markdown",
   "metadata": {
    "papermill": {
     "duration": 0.110458,
     "end_time": "2020-10-28T01:45:05.046088",
     "exception": false,
     "start_time": "2020-10-28T01:45:04.935630",
     "status": "completed"
    },
    "tags": []
   },
   "source": [
    "All the variables are concentrated on the lower part of the graph, with the expeption of 'ProductRelated_Duration'. That is a really good reason for standarize the Data before to train our ML or DL model.\n",
    "\n",
    "**its Important** also, that big outlier in 'ProductRelated_Duration', but taking in consideretion that this variable is the time spent inside of the specefic shoping page probably is not a wrong value. "
   ]
  },
  {
   "cell_type": "markdown",
   "metadata": {
    "papermill": {
     "duration": 0.108244,
     "end_time": "2020-10-28T01:45:05.264147",
     "exception": false,
     "start_time": "2020-10-28T01:45:05.155903",
     "status": "completed"
    },
    "tags": []
   },
   "source": [
    "<center> <h1> Outlier"
   ]
  },
  {
   "cell_type": "code",
   "execution_count": 38,
   "metadata": {
    "execution": {
     "iopub.execute_input": "2020-10-28T01:45:05.496998Z",
     "iopub.status.busy": "2020-10-28T01:45:05.495843Z",
     "iopub.status.idle": "2020-10-28T01:45:05.504073Z",
     "shell.execute_reply": "2020-10-28T01:45:05.503161Z"
    },
    "papermill": {
     "duration": 0.12952,
     "end_time": "2020-10-28T01:45:05.504248",
     "exception": false,
     "start_time": "2020-10-28T01:45:05.374728",
     "status": "completed"
    },
    "tags": []
   },
   "outputs": [],
   "source": [
    "# Detect the outliers on ProductRelated_Duration, which, according to our graphs,\n",
    "# was the only  column with possible outliers\n",
    "\n",
    "q = X[\"ProductRelated_Duration\"].quantile(0.99)\n",
    "\n",
    "# and then filter with:\n",
    "\n",
    "time_spent=X[X[\"ProductRelated_Duration\"] > q]"
   ]
  },
  {
   "cell_type": "code",
   "execution_count": 39,
   "metadata": {
    "execution": {
     "iopub.execute_input": "2020-10-28T01:45:05.729494Z",
     "iopub.status.busy": "2020-10-28T01:45:05.728398Z",
     "iopub.status.idle": "2020-10-28T01:45:05.731405Z",
     "shell.execute_reply": "2020-10-28T01:45:05.731993Z"
    },
    "papermill": {
     "duration": 0.118243,
     "end_time": "2020-10-28T01:45:05.732156",
     "exception": false,
     "start_time": "2020-10-28T01:45:05.613913",
     "status": "completed"
    },
    "tags": []
   },
   "outputs": [],
   "source": [
    "time_spent_in_seconds = time_spent['ProductRelated_Duration'].mean()"
   ]
  },
  {
   "cell_type": "code",
   "execution_count": 40,
   "metadata": {
    "execution": {
     "iopub.execute_input": "2020-10-28T01:45:05.960456Z",
     "iopub.status.busy": "2020-10-28T01:45:05.959250Z",
     "iopub.status.idle": "2020-10-28T01:45:05.962675Z",
     "shell.execute_reply": "2020-10-28T01:45:05.962021Z"
    },
    "papermill": {
     "duration": 0.119202,
     "end_time": "2020-10-28T01:45:05.962805",
     "exception": false,
     "start_time": "2020-10-28T01:45:05.843603",
     "status": "completed"
    },
    "tags": []
   },
   "outputs": [],
   "source": [
    "time_spent_in_hours = time_spent_in_seconds/3600 # This columns its in seconds and here we transform it\n",
    "# in hours for better analysis."
   ]
  },
  {
   "cell_type": "code",
   "execution_count": 41,
   "metadata": {
    "execution": {
     "iopub.execute_input": "2020-10-28T01:45:06.196058Z",
     "iopub.status.busy": "2020-10-28T01:45:06.194778Z",
     "iopub.status.idle": "2020-10-28T01:45:06.199774Z",
     "shell.execute_reply": "2020-10-28T01:45:06.200404Z"
    },
    "papermill": {
     "duration": 0.126126,
     "end_time": "2020-10-28T01:45:06.200577",
     "exception": false,
     "start_time": "2020-10-28T01:45:06.074451",
     "status": "completed"
    },
    "tags": []
   },
   "outputs": [
    {
     "data": {
      "text/plain": [
       "3.58"
      ]
     },
     "execution_count": 41,
     "metadata": {},
     "output_type": "execute_result"
    }
   ],
   "source": [
    "round(time_spent_in_hours, 2)"
   ]
  },
  {
   "cell_type": "markdown",
   "metadata": {
    "papermill": {
     "duration": 0.110216,
     "end_time": "2020-10-28T01:45:06.421987",
     "exception": false,
     "start_time": "2020-10-28T01:45:06.311771",
     "status": "completed"
    },
    "tags": []
   },
   "source": [
    "Here we coud see that the mean of spent time in the shop page for the 0.01 higher quantile of 'ProductRelated_Duration' columns is 3.59 hours. That looks really normal. \n",
    "\n",
    "¿Who hasnt spent 3 hours choosing the best product?\n",
    "\n",
    "**The otliers will remain in our dataframe**"
   ]
  },
  {
   "cell_type": "markdown",
   "metadata": {
    "papermill": {
     "duration": 0.111244,
     "end_time": "2020-10-28T01:45:06.644139",
     "exception": false,
     "start_time": "2020-10-28T01:45:06.532895",
     "status": "completed"
    },
    "tags": []
   },
   "source": [
    "<center><h1> Graphs"
   ]
  },
  {
   "cell_type": "code",
   "execution_count": 42,
   "metadata": {
    "execution": {
     "iopub.execute_input": "2020-10-28T01:45:06.877081Z",
     "iopub.status.busy": "2020-10-28T01:45:06.871991Z",
     "iopub.status.idle": "2020-10-28T01:45:06.891079Z",
     "shell.execute_reply": "2020-10-28T01:45:06.890297Z"
    },
    "papermill": {
     "duration": 0.139021,
     "end_time": "2020-10-28T01:45:06.891209",
     "exception": false,
     "start_time": "2020-10-28T01:45:06.752188",
     "status": "completed"
    },
    "tags": []
   },
   "outputs": [],
   "source": [
    "# Functions that we'll use. Its not really necessary at this point that you understand every line of\n",
    "# code.\n",
    "\n",
    "def relaciones_vs_target(X, Y, return_type='axes'):\n",
    "    '''\n",
    "    Función que representa gráficos de dispersión de las variables\n",
    "    en X en función a la variable Y\n",
    "    '''\n",
    "    fig_tot = (len(X_numeric.columns))\n",
    "    fig_por_fila = 4.\n",
    "    tamanio_fig = 4.\n",
    "    num_filas = int( np.ceil(fig_tot/fig_por_fila) )    \n",
    "    plt.figure( figsize=( fig_por_fila*tamanio_fig+5, num_filas*tamanio_fig+5 ) )\n",
    "    c = 0 \n",
    "    for i, col in enumerate(X.columns):\n",
    "        plt.subplot(num_filas, fig_por_fila, i+1)\n",
    "        sns.scatterplot(x=X_numeric[col], y=Y)\n",
    "        plt.title( '%s vs %s' % (col, 'target') )\n",
    "        plt.ylabel('Target')\n",
    "        plt.xlabel(col)\n",
    "    plt.show()\n",
    "\n",
    "def represento_doble_hist(x_1, x_0, n_bins=11, title='', label_1='Clase 1', \n",
    "                          label_0='Clase 0', density=0):\n",
    "    '''\n",
    "    Función que recibe dos distribuciones de probabilidad y las representa\n",
    "    en el mismo gráfico\n",
    "    '''\n",
    "    bins = n_bins\n",
    "    plt.hist(x_1, bins, density = density, alpha=0.5, label=label_1, color='red')    \n",
    "    plt.hist(x_0, bins, density = density, alpha=0.5, label=label_0, color='green')\n",
    "    plt.title(title)\n",
    "    plt.legend(loc='best') \n",
    "\n",
    "def hist_pos_neg_feat(x, y, density=0, nbins=11, targets=(0,1)):\n",
    "    '''\n",
    "    Representa las variables en x divididas en dos distribuciones\n",
    "    según su valor de y sea 1 o 0\n",
    "    '''\n",
    "    fig_tot = len(x.columns)\n",
    "    fig_tot_fila = 3.; fig_tamanio = 5.\n",
    "    num_filas = int( np.ceil(fig_tot/fig_tot_fila) )\n",
    "    plt.figure( figsize=( fig_tot_fila*fig_tamanio+2, num_filas*fig_tamanio+2 ) )\n",
    "    target_neg, target_pos = targets\n",
    "    for i, feat in enumerate(x.columns):\n",
    "        plt.subplot(num_filas, fig_tot_fila, i+1);\n",
    "        plt.title('%s' % feat)\n",
    "        idx_pos = y == target_pos\n",
    "        idx_neg= y == target_neg\n",
    "        represento_doble_hist(x[feat][idx_pos].values, x[feat][idx_neg].values, nbins, \n",
    "                   density = density, title=('%s' % feat))"
   ]
  },
  {
   "cell_type": "code",
   "execution_count": 43,
   "metadata": {
    "execution": {
     "iopub.execute_input": "2020-10-28T01:45:07.133965Z",
     "iopub.status.busy": "2020-10-28T01:45:07.132964Z",
     "iopub.status.idle": "2020-10-28T01:45:13.688592Z",
     "shell.execute_reply": "2020-10-28T01:45:13.689241Z"
    },
    "papermill": {
     "duration": 6.683897,
     "end_time": "2020-10-28T01:45:13.689427",
     "exception": false,
     "start_time": "2020-10-28T01:45:07.005530",
     "status": "completed"
    },
    "tags": []
   },
   "outputs": [
    {
     "data": {
      "image/png": "[encoded data removed]",
      "text/plain": [
       "<Figure size 1224x3384 with 26 Axes>"
      ]
     },
     "metadata": {
      "needs_background": "light"
     },
     "output_type": "display_data"
    }
   ],
   "source": [
    "hist_pos_neg_feat(X,y)"
   ]
  },
  {
   "cell_type": "markdown",
   "metadata": {
    "papermill": {
     "duration": 0.119083,
     "end_time": "2020-10-28T01:45:13.929400",
     "exception": false,
     "start_time": "2020-10-28T01:45:13.810317",
     "status": "completed"
    },
    "tags": []
   },
   "source": [
    "According to these graphs, we can see that customers who complete online purchases are evenly distributed within our data. Only with a visual analysis can not obtain new value data to contribute to the Marketing department."
   ]
  },
  {
   "cell_type": "code",
   "execution_count": 44,
   "metadata": {
    "execution": {
     "iopub.execute_input": "2020-10-28T01:45:14.172434Z",
     "iopub.status.busy": "2020-10-28T01:45:14.171653Z",
     "iopub.status.idle": "2020-10-28T01:45:14.806103Z",
     "shell.execute_reply": "2020-10-28T01:45:14.805332Z"
    },
    "papermill": {
     "duration": 0.758074,
     "end_time": "2020-10-28T01:45:14.806238",
     "exception": false,
     "start_time": "2020-10-28T01:45:14.048164",
     "status": "completed"
    },
    "tags": []
   },
   "outputs": [
    {
     "data": {
      "image/png": "[encoded data removed]",
      "text/plain": [
       "<Figure size 648x648 with 2 Axes>"
      ]
     },
     "metadata": {
      "needs_background": "light"
     },
     "output_type": "display_data"
    }
   ],
   "source": [
    "matriz_correlaciones = X_numeric.corr(method='pearson')\n",
    "n_ticks = len(X_numeric.columns)\n",
    "plt.figure( figsize=(9, 9) )\n",
    "plt.xticks(range(n_ticks), X_numeric.columns, rotation='vertical')\n",
    "plt.yticks(range(n_ticks), X_numeric.columns)\n",
    "plt.colorbar(plt.imshow(matriz_correlaciones, interpolation='nearest', \n",
    "                            vmin=-1., vmax=1., \n",
    "                            cmap=plt.get_cmap('Blues')))\n",
    "_ = plt.title('Matriz de correlaciones de Pearson')"
   ]
  },
  {
   "cell_type": "code",
   "execution_count": 45,
   "metadata": {
    "execution": {
     "iopub.execute_input": "2020-10-28T01:45:15.058937Z",
     "iopub.status.busy": "2020-10-28T01:45:15.058090Z",
     "iopub.status.idle": "2020-10-28T01:45:15.322628Z",
     "shell.execute_reply": "2020-10-28T01:45:15.321811Z"
    },
    "papermill": {
     "duration": 0.393566,
     "end_time": "2020-10-28T01:45:15.322761",
     "exception": false,
     "start_time": "2020-10-28T01:45:14.929195",
     "status": "completed"
    },
    "tags": []
   },
   "outputs": [
    {
     "data": {
      "image/png": "[encoded data removed]",
      "text/plain": [
       "<Figure size 432x288 with 1 Axes>"
      ]
     },
     "metadata": {
      "needs_background": "light"
     },
     "output_type": "display_data"
    }
   ],
   "source": [
    "# Correlation with Revenue\n",
    "data_corr = XY.corr()['Revenue'] \n",
    "sns.barplot(data_corr[0:-1].index,data_corr[0:-1].values).set_title('Correlation with the Revenue')\n",
    "plt.xticks(rotation = 90)\n",
    "plt.show()"
   ]
  },
  {
   "cell_type": "markdown",
   "metadata": {
    "papermill": {
     "duration": 0.115692,
     "end_time": "2020-10-28T01:45:15.554700",
     "exception": false,
     "start_time": "2020-10-28T01:45:15.439008",
     "status": "completed"
    },
    "tags": []
   },
   "source": [
    "###  Resultantly, Page Values has the highest correlation( around 0.5) with Revenue compare to all other features."
   ]
  },
  {
   "cell_type": "code",
   "execution_count": 46,
   "metadata": {
    "execution": {
     "iopub.execute_input": "2020-10-28T01:45:15.826234Z",
     "iopub.status.busy": "2020-10-28T01:45:15.825432Z",
     "iopub.status.idle": "2020-10-28T01:45:17.073712Z",
     "shell.execute_reply": "2020-10-28T01:45:17.074329Z"
    },
    "papermill": {
     "duration": 1.402419,
     "end_time": "2020-10-28T01:45:17.074492",
     "exception": false,
     "start_time": "2020-10-28T01:45:15.672073",
     "status": "completed"
    },
    "tags": []
   },
   "outputs": [
    {
     "data": {
      "image/png": "[encoded data removed]",
      "text/plain": [
       "<Figure size 1224x720 with 7 Axes>"
      ]
     },
     "metadata": {},
     "output_type": "display_data"
    }
   ],
   "source": [
    "# Lets see the Ratio of Revenue in each types\n",
    "\n",
    "plt.style.use('fivethirtyeight')\n",
    "fig,ax = plt.subplots(nrows = 2, ncols = 4,figsize = (17,10))\n",
    "fig.tight_layout(pad = 3)\n",
    "\n",
    "\n",
    "adm_rev = XY[['Administrative','Revenue']]\n",
    "rev_p1 = pd.DataFrame(XY.groupby('Revenue')['Administrative'].sum()).T\n",
    "rev_p1.plot.bar(stacked=True,ax=ax[0,0])\n",
    "ax[0,0].set_xticklabels(['Administrative'], rotation=360)\n",
    "plt.legend(loc='best')\n",
    "\n",
    "\n",
    "info_rev = XY[['Informational','Revenue']]\n",
    "rev_p2 = pd.DataFrame(XY.groupby('Revenue')['Informational'].sum()).T\n",
    "rev_p2.plot.bar(stacked=True,ax = ax[0,1],color = ['black','white'])\n",
    "ax[0,1].set_xticklabels(['Informational'], rotation=360)\n",
    "plt.legend(loc='best')\n",
    "\n",
    "info_rev = XY[['ProductRelated','Revenue']]\n",
    "rev_p2 = pd.DataFrame(XY.groupby('Revenue')['ProductRelated'].sum()).T\n",
    "rev_p2.plot.bar(stacked=True,ax = ax[0,2],color = ['purple','red'])\n",
    "ax[0,2].set_xticklabels(['ProductRelated'], rotation=360)\n",
    "plt.legend(loc='best')\n",
    "\n",
    "\n",
    "\n",
    "info_rev = XY[['OperatingSystems','Revenue']]\n",
    "rev_p2 = pd.DataFrame(XY.groupby('Revenue')['OperatingSystems'].sum()).T\n",
    "rev_p2.plot.bar(stacked=True,ax = ax[0,3],color = ['green','yellow'])\n",
    "ax[0,3].set_xticklabels(['OperatingSystems'], rotation=360)\n",
    "\n",
    "\n",
    "info_rev = XY[['Browser','Revenue']]\n",
    "rev_p2 = pd.DataFrame(XY.groupby('Revenue')['Browser'].sum()).T\n",
    "rev_p2.plot.bar(stacked=True,ax = ax[1,0],color = ['navy','orange'])\n",
    "ax[1,0].set_xticklabels(['Browser'], rotation=360)\n",
    "\n",
    "\n",
    "info_rev = XY[['Region','Revenue']]\n",
    "rev_p2 = pd.DataFrame(XY.groupby('Revenue')['Region'].sum()).T\n",
    "rev_p2.plot.bar(stacked=True,ax = ax[1,1],color = ['black','red'])\n",
    "ax[1,1].set_xticklabels(['Region'], rotation=360)\n",
    "\n",
    "\n",
    "info_rev = XY[['TrafficType','Revenue']]\n",
    "rev_p2 = pd.DataFrame(XY.groupby('Revenue')['TrafficType'].sum()).T\n",
    "rev_p2.plot.bar(stacked=True,ax = ax[1,2],color = ['blue','green'])\n",
    "ax[1,2].set_xticklabels(['TrafficType'], rotation=360)\n",
    "\n",
    "fig.delaxes(ax[1,3])"
   ]
  },
  {
   "cell_type": "markdown",
   "metadata": {
    "papermill": {
     "duration": 0.123831,
     "end_time": "2020-10-28T01:45:17.322776",
     "exception": false,
     "start_time": "2020-10-28T01:45:17.198945",
     "status": "completed"
    },
    "tags": []
   },
   "source": [
    "Columns :'Administrative', 'Informational' and 'ProductRelated' there are the most related with the revenue results. We have to keept that in mind. "
   ]
  },
  {
   "cell_type": "code",
   "execution_count": 47,
   "metadata": {
    "execution": {
     "iopub.execute_input": "2020-10-28T01:45:17.565218Z",
     "iopub.status.busy": "2020-10-28T01:45:17.564393Z",
     "iopub.status.idle": "2020-10-28T01:45:17.567951Z",
     "shell.execute_reply": "2020-10-28T01:45:17.567150Z"
    },
    "papermill": {
     "duration": 0.1266,
     "end_time": "2020-10-28T01:45:17.568076",
     "exception": false,
     "start_time": "2020-10-28T01:45:17.441476",
     "status": "completed"
    },
    "tags": []
   },
   "outputs": [],
   "source": [
    "#All perfect. Continue. "
   ]
  },
  {
   "cell_type": "markdown",
   "metadata": {
    "papermill": {
     "duration": 0.1296,
     "end_time": "2020-10-28T01:45:17.821353",
     "exception": false,
     "start_time": "2020-10-28T01:45:17.691753",
     "status": "completed"
    },
    "tags": []
   },
   "source": [
    "<center><h1> Standardization of data:"
   ]
  },
  {
   "cell_type": "code",
   "execution_count": 48,
   "metadata": {
    "execution": {
     "iopub.execute_input": "2020-10-28T01:45:18.073151Z",
     "iopub.status.busy": "2020-10-28T01:45:18.072333Z",
     "iopub.status.idle": "2020-10-28T01:45:18.088116Z",
     "shell.execute_reply": "2020-10-28T01:45:18.087443Z"
    },
    "papermill": {
     "duration": 0.145996,
     "end_time": "2020-10-28T01:45:18.088254",
     "exception": false,
     "start_time": "2020-10-28T01:45:17.942258",
     "status": "completed"
    },
    "tags": []
   },
   "outputs": [],
   "source": [
    "obj_escalar = StandardScaler()\n",
    "X_estandarizado = obj_escalar.fit_transform(X_D)\n",
    "#Al estandarizar los datos mi regresion logistica me entraga un ROC de 1."
   ]
  },
  {
   "cell_type": "code",
   "execution_count": 49,
   "metadata": {
    "execution": {
     "iopub.execute_input": "2020-10-28T01:45:18.342555Z",
     "iopub.status.busy": "2020-10-28T01:45:18.341567Z",
     "iopub.status.idle": "2020-10-28T01:45:18.346376Z",
     "shell.execute_reply": "2020-10-28T01:45:18.345719Z"
    },
    "jupyter": {
     "outputs_hidden": true
    },
    "papermill": {
     "duration": 0.135077,
     "end_time": "2020-10-28T01:45:18.346502",
     "exception": false,
     "start_time": "2020-10-28T01:45:18.211425",
     "status": "completed"
    },
    "tags": []
   },
   "outputs": [
    {
     "data": {
      "text/plain": [
       "array([[-0.69699296, -0.4571914 , -0.3964779 , ..., -0.19417541,\n",
       "        -0.08331632,  0.41062101],\n",
       "       [-0.69699296, -0.4571914 , -0.3964779 , ..., -0.19417541,\n",
       "        -0.08331632,  0.41062101],\n",
       "       [-0.69699296, -0.4571914 , -0.3964779 , ..., -0.19417541,\n",
       "        -0.08331632,  0.41062101],\n",
       "       ...,\n",
       "       [-0.69699296, -0.4571914 , -0.3964779 , ..., -0.19417541,\n",
       "        -0.08331632,  0.41062101],\n",
       "       [ 0.50722805, -0.03291592, -0.3964779 , ..., -0.19417541,\n",
       "        -0.08331632,  0.41062101],\n",
       "       [-0.69699296, -0.4571914 , -0.3964779 , ..., -0.19417541,\n",
       "        -0.08331632, -2.43533571]])"
      ]
     },
     "execution_count": 49,
     "metadata": {},
     "output_type": "execute_result"
    }
   ],
   "source": [
    "X_estandarizado"
   ]
  },
  {
   "cell_type": "code",
   "execution_count": 50,
   "metadata": {
    "execution": {
     "iopub.execute_input": "2020-10-28T01:45:18.630120Z",
     "iopub.status.busy": "2020-10-28T01:45:18.628967Z",
     "iopub.status.idle": "2020-10-28T01:45:18.633081Z",
     "shell.execute_reply": "2020-10-28T01:45:18.632027Z"
    },
    "papermill": {
     "duration": 0.155506,
     "end_time": "2020-10-28T01:45:18.633262",
     "exception": false,
     "start_time": "2020-10-28T01:45:18.477756",
     "status": "completed"
    },
    "tags": []
   },
   "outputs": [],
   "source": [
    "# Now, we divide our df in train and test for start applyng models"
   ]
  },
  {
   "cell_type": "code",
   "execution_count": 51,
   "metadata": {
    "execution": {
     "iopub.execute_input": "2020-10-28T01:45:18.913939Z",
     "iopub.status.busy": "2020-10-28T01:45:18.912877Z",
     "iopub.status.idle": "2020-10-28T01:45:18.921393Z",
     "shell.execute_reply": "2020-10-28T01:45:18.920692Z"
    },
    "papermill": {
     "duration": 0.140572,
     "end_time": "2020-10-28T01:45:18.921561",
     "exception": false,
     "start_time": "2020-10-28T01:45:18.780989",
     "status": "completed"
    },
    "tags": []
   },
   "outputs": [],
   "source": [
    "X_train, X_test, Y_train, Y_test = train_test_split(X, y, test_size=0.2, random_state=1234)\n"
   ]
  },
  {
   "cell_type": "markdown",
   "metadata": {
    "papermill": {
     "duration": 0.127203,
     "end_time": "2020-10-28T01:45:19.176631",
     "exception": false,
     "start_time": "2020-10-28T01:45:19.049428",
     "status": "completed"
    },
    "tags": []
   },
   "source": [
    "<center><H3> Now, We'll train 3 differents ML model looking for the best one "
   ]
  },
  {
   "cell_type": "markdown",
   "metadata": {
    "papermill": {
     "duration": 0.122068,
     "end_time": "2020-10-28T01:45:19.423834",
     "exception": false,
     "start_time": "2020-10-28T01:45:19.301766",
     "status": "completed"
    },
    "tags": []
   },
   "source": [
    "<center><H2> Logistic Regresion"
   ]
  },
  {
   "cell_type": "markdown",
   "metadata": {
    "papermill": {
     "duration": 0.124353,
     "end_time": "2020-10-28T01:45:19.672531",
     "exception": false,
     "start_time": "2020-10-28T01:45:19.548178",
     "status": "completed"
    },
    "tags": []
   },
   "source": [
    "GridSearchCV its a extremly useful code for ours ML model. Its lets us find the best combination of parameters. We shoud use it always"
   ]
  },
  {
   "cell_type": "code",
   "execution_count": 52,
   "metadata": {
    "execution": {
     "iopub.execute_input": "2020-10-28T01:45:19.931607Z",
     "iopub.status.busy": "2020-10-28T01:45:19.930739Z",
     "iopub.status.idle": "2020-10-28T01:45:19.935749Z",
     "shell.execute_reply": "2020-10-28T01:45:19.934984Z"
    },
    "papermill": {
     "duration": 0.134439,
     "end_time": "2020-10-28T01:45:19.935874",
     "exception": false,
     "start_time": "2020-10-28T01:45:19.801435",
     "status": "completed"
    },
    "tags": []
   },
   "outputs": [],
   "source": [
    "modelo1 = LogisticRegression()\n",
    "parametros = {\"C\": [0.001, 0.008, 0.01, 0.02, 0.03, 0.04, 0.05, 0.06], \n",
    "              \"class_weight\":['balanced', None]}"
   ]
  },
  {
   "cell_type": "code",
   "execution_count": 53,
   "metadata": {
    "execution": {
     "iopub.execute_input": "2020-10-28T01:45:20.186221Z",
     "iopub.status.busy": "2020-10-28T01:45:20.185465Z",
     "iopub.status.idle": "2020-10-28T01:45:32.738198Z",
     "shell.execute_reply": "2020-10-28T01:45:32.737453Z"
    },
    "papermill": {
     "duration": 12.679617,
     "end_time": "2020-10-28T01:45:32.738364",
     "exception": false,
     "start_time": "2020-10-28T01:45:20.058747",
     "status": "completed"
    },
    "tags": []
   },
   "outputs": [
    {
     "data": {
      "text/plain": [
       "GridSearchCV(cv=5, estimator=LogisticRegression(),\n",
       "             param_grid={'C': [0.001, 0.008, 0.01, 0.02, 0.03, 0.04, 0.05,\n",
       "                               0.06],\n",
       "                         'class_weight': ['balanced', None]},\n",
       "             scoring='roc_auc')"
      ]
     },
     "execution_count": 53,
     "metadata": {},
     "output_type": "execute_result"
    }
   ],
   "source": [
    "modelo_gs = GridSearchCV(modelo1, param_grid=parametros,\n",
    "                         cv = 5, scoring='roc_auc')\n",
    "modelo_gs.fit(X_train, Y_train)"
   ]
  },
  {
   "cell_type": "code",
   "execution_count": 54,
   "metadata": {
    "execution": {
     "iopub.execute_input": "2020-10-28T01:45:33.032417Z",
     "iopub.status.busy": "2020-10-28T01:45:33.031420Z",
     "iopub.status.idle": "2020-10-28T01:45:33.037100Z",
     "shell.execute_reply": "2020-10-28T01:45:33.036124Z"
    },
    "papermill": {
     "duration": 0.141535,
     "end_time": "2020-10-28T01:45:33.037302",
     "exception": false,
     "start_time": "2020-10-28T01:45:32.895767",
     "status": "completed"
    },
    "tags": []
   },
   "outputs": [
    {
     "name": "stdout",
     "output_type": "stream",
     "text": [
      "{'C': 0.02, 'class_weight': 'balanced'} \n",
      "ROC AUC: 0.88\n"
     ]
    }
   ],
   "source": [
    "print(modelo_gs.best_params_, \"\\nROC AUC: {}\".format(round(modelo_gs.best_score_,2)))"
   ]
  },
  {
   "cell_type": "markdown",
   "metadata": {
    "papermill": {
     "duration": 0.12222,
     "end_time": "2020-10-28T01:45:33.282200",
     "exception": false,
     "start_time": "2020-10-28T01:45:33.159980",
     "status": "completed"
    },
    "tags": []
   },
   "source": [
    "0.88 ROC AUC its a really nice result. But we must continue looking for other models. \n",
    "Important that in the code cell above, 'best_params_ give us the result of the best parameters for use finally in our model for this Dataset"
   ]
  },
  {
   "cell_type": "code",
   "execution_count": 55,
   "metadata": {
    "execution": {
     "iopub.execute_input": "2020-10-28T01:45:33.536994Z",
     "iopub.status.busy": "2020-10-28T01:45:33.536114Z",
     "iopub.status.idle": "2020-10-28T01:45:33.539633Z",
     "shell.execute_reply": "2020-10-28T01:45:33.538889Z"
    },
    "papermill": {
     "duration": 0.136242,
     "end_time": "2020-10-28T01:45:33.539766",
     "exception": false,
     "start_time": "2020-10-28T01:45:33.403524",
     "status": "completed"
    },
    "tags": []
   },
   "outputs": [],
   "source": [
    "df_search = pd.DataFrame.from_dict(modelo_gs.cv_results_)"
   ]
  },
  {
   "cell_type": "code",
   "execution_count": 56,
   "metadata": {
    "execution": {
     "iopub.execute_input": "2020-10-28T01:45:33.814448Z",
     "iopub.status.busy": "2020-10-28T01:45:33.808954Z",
     "iopub.status.idle": "2020-10-28T01:45:33.983899Z",
     "shell.execute_reply": "2020-10-28T01:45:33.983270Z"
    },
    "papermill": {
     "duration": 0.318884,
     "end_time": "2020-10-28T01:45:33.984040",
     "exception": false,
     "start_time": "2020-10-28T01:45:33.665156",
     "status": "completed"
    },
    "tags": []
   },
   "outputs": [
    {
     "data": {
      "image/png": "[encoded data removed]",
      "text/plain": [
       "<Figure size 432x288 with 1 Axes>"
      ]
     },
     "metadata": {},
     "output_type": "display_data"
    }
   ],
   "source": [
    "plt.xlabel('C')\n",
    "plt.ylabel('roc_auc')\n",
    "_ = plt.plot( df_search['param_C'], df_search['mean_test_score'], '.')"
   ]
  },
  {
   "cell_type": "markdown",
   "metadata": {
    "papermill": {
     "duration": 0.125083,
     "end_time": "2020-10-28T01:45:34.233602",
     "exception": false,
     "start_time": "2020-10-28T01:45:34.108519",
     "status": "completed"
    },
    "tags": []
   },
   "source": [
    "Analizando el modelo con el mejor alpha\n",
    "En este paso nos quedamos con los mejores parámetros obtenidos en el paso anterior:"
   ]
  },
  {
   "cell_type": "code",
   "execution_count": 57,
   "metadata": {
    "execution": {
     "iopub.execute_input": "2020-10-28T01:45:34.485334Z",
     "iopub.status.busy": "2020-10-28T01:45:34.484221Z",
     "iopub.status.idle": "2020-10-28T01:45:34.487799Z",
     "shell.execute_reply": "2020-10-28T01:45:34.487189Z"
    },
    "papermill": {
     "duration": 0.131479,
     "end_time": "2020-10-28T01:45:34.487925",
     "exception": false,
     "start_time": "2020-10-28T01:45:34.356446",
     "status": "completed"
    },
    "tags": []
   },
   "outputs": [],
   "source": [
    "reg_log =  LogisticRegression(C=modelo_gs.best_params_['C'],\n",
    "                              class_weight=modelo_gs.best_params_['class_weight'])"
   ]
  },
  {
   "cell_type": "markdown",
   "metadata": {
    "papermill": {
     "duration": 0.123274,
     "end_time": "2020-10-28T01:45:34.738203",
     "exception": false,
     "start_time": "2020-10-28T01:45:34.614929",
     "status": "completed"
    },
    "tags": []
   },
   "source": [
    "Finally we train our model with the best parameters that GridSearch give us."
   ]
  },
  {
   "cell_type": "code",
   "execution_count": 58,
   "metadata": {
    "execution": {
     "iopub.execute_input": "2020-10-28T01:45:34.991973Z",
     "iopub.status.busy": "2020-10-28T01:45:34.991196Z",
     "iopub.status.idle": "2020-10-28T01:45:35.163921Z",
     "shell.execute_reply": "2020-10-28T01:45:35.163020Z"
    },
    "papermill": {
     "duration": 0.302747,
     "end_time": "2020-10-28T01:45:35.164068",
     "exception": false,
     "start_time": "2020-10-28T01:45:34.861321",
     "status": "completed"
    },
    "tags": []
   },
   "outputs": [
    {
     "data": {
      "text/plain": [
       "LogisticRegression(C=0.02, class_weight='balanced')"
      ]
     },
     "execution_count": 58,
     "metadata": {},
     "output_type": "execute_result"
    }
   ],
   "source": [
    "reg_log.fit(X_train, Y_train)"
   ]
  },
  {
   "cell_type": "markdown",
   "metadata": {
    "papermill": {
     "duration": 0.12411,
     "end_time": "2020-10-28T01:45:35.417809",
     "exception": false,
     "start_time": "2020-10-28T01:45:35.293699",
     "status": "completed"
    },
    "tags": []
   },
   "source": [
    "Here, is when the Test Set comes into play. When you want to validate an already chosen and optimized model.\n",
    "With that model optimized, I predict tests to see how it behaves on data that you haven't seen before"
   ]
  },
  {
   "cell_type": "code",
   "execution_count": 59,
   "metadata": {
    "execution": {
     "iopub.execute_input": "2020-10-28T01:45:35.678367Z",
     "iopub.status.busy": "2020-10-28T01:45:35.677522Z",
     "iopub.status.idle": "2020-10-28T01:45:35.683365Z",
     "shell.execute_reply": "2020-10-28T01:45:35.683925Z"
    },
    "papermill": {
     "duration": 0.141576,
     "end_time": "2020-10-28T01:45:35.684106",
     "exception": false,
     "start_time": "2020-10-28T01:45:35.542530",
     "status": "completed"
    },
    "tags": []
   },
   "outputs": [],
   "source": [
    "y_test_pred_prob = reg_log.predict_proba(X_test)\n",
    "y_test_pred_prob_pos = y_test_pred_prob[np.where(Y_test == 1)[0]]\n",
    "y_test_pred_prob_neg = y_test_pred_prob[np.where(Y_test == 0)[0]]"
   ]
  },
  {
   "cell_type": "code",
   "execution_count": 60,
   "metadata": {
    "execution": {
     "iopub.execute_input": "2020-10-28T01:45:35.974541Z",
     "iopub.status.busy": "2020-10-28T01:45:35.973714Z",
     "iopub.status.idle": "2020-10-28T01:45:36.186597Z",
     "shell.execute_reply": "2020-10-28T01:45:36.187421Z"
    },
    "papermill": {
     "duration": 0.355407,
     "end_time": "2020-10-28T01:45:36.187628",
     "exception": false,
     "start_time": "2020-10-28T01:45:35.832221",
     "status": "completed"
    },
    "tags": []
   },
   "outputs": [
    {
     "data": {
      "image/png": "[encoded data removed]",
      "text/plain": [
       "<Figure size 720x504 with 1 Axes>"
      ]
     },
     "metadata": {},
     "output_type": "display_data"
    }
   ],
   "source": [
    "preds = y_test_pred_prob[:,1]\n",
    "fpr, tpr, threshold = metrics.roc_curve(Y_test, preds)\n",
    "roc_auc = metrics.auc(fpr, tpr)\n",
    "\n",
    "plt.figure(figsize=(10,7))\n",
    "plt.title('Receiver Operating Characteristic')\n",
    "plt.plot(fpr, tpr, 'b', label = 'AUC = %0.2f' % roc_auc)\n",
    "plt.legend(loc = 'lower right')\n",
    "plt.plot([0, 1], [0, 1],'r--')\n",
    "plt.xlim([0, 1])\n",
    "plt.ylim([0, 1])\n",
    "plt.ylabel('True Positive Rate')\n",
    "plt.xlabel('False Positive Rate')\n",
    "plt.show()"
   ]
  },
  {
   "cell_type": "markdown",
   "metadata": {
    "papermill": {
     "duration": 0.125587,
     "end_time": "2020-10-28T01:45:36.441737",
     "exception": false,
     "start_time": "2020-10-28T01:45:36.316150",
     "status": "completed"
    },
    "tags": []
   },
   "source": [
    "This figure represents in green the probabilities assigned by the model to data that are 0s (the closer the green distribution is to 0, the better) and in red the probabilities assigned to the data that are 1s (the closer the red distribution is to 1 best).\n",
    "\n",
    "Esta figura representa en verde las probabilidades que asigna el modelo a los datos que son 0s (cuanto más cerca de 0 la distribución verde mejor) y en rojo las probabilidades asignadas a los datos que son 1s (cuanto más cerca esté de 1 la distribución roja mejor)."
   ]
  },
  {
   "cell_type": "code",
   "execution_count": 61,
   "metadata": {
    "execution": {
     "iopub.execute_input": "2020-10-28T01:45:36.721779Z",
     "iopub.status.busy": "2020-10-28T01:45:36.716192Z",
     "iopub.status.idle": "2020-10-28T01:45:37.002810Z",
     "shell.execute_reply": "2020-10-28T01:45:37.003699Z"
    },
    "papermill": {
     "duration": 0.433877,
     "end_time": "2020-10-28T01:45:37.003887",
     "exception": false,
     "start_time": "2020-10-28T01:45:36.570010",
     "status": "completed"
    },
    "tags": []
   },
   "outputs": [
    {
     "data": {
      "image/png": "[encoded data removed]",
      "text/plain": [
       "<Figure size 432x288 with 1 Axes>"
      ]
     },
     "metadata": {},
     "output_type": "display_data"
    }
   ],
   "source": [
    "represento_doble_hist(y_test_pred_prob_pos[:, 1], y_test_pred_prob_neg[:, 1], n_bins=21, density=0)"
   ]
  },
  {
   "cell_type": "markdown",
   "metadata": {
    "papermill": {
     "duration": 0.130642,
     "end_time": "2020-10-28T01:45:37.261546",
     "exception": false,
     "start_time": "2020-10-28T01:45:37.130904",
     "status": "completed"
    },
    "tags": []
   },
   "source": [
    "We have to choose the umbral for separate our results which are continuous values into a binary option of Yes or Not (1 or 0) about the revenue probability."
   ]
  },
  {
   "cell_type": "code",
   "execution_count": 62,
   "metadata": {
    "execution": {
     "iopub.execute_input": "2020-10-28T01:45:37.525732Z",
     "iopub.status.busy": "2020-10-28T01:45:37.524601Z",
     "iopub.status.idle": "2020-10-28T01:45:37.528597Z",
     "shell.execute_reply": "2020-10-28T01:45:37.527763Z"
    },
    "papermill": {
     "duration": 0.140361,
     "end_time": "2020-10-28T01:45:37.528735",
     "exception": false,
     "start_time": "2020-10-28T01:45:37.388374",
     "status": "completed"
    },
    "tags": []
   },
   "outputs": [],
   "source": [
    "umbral = 0.6\n",
    "y_umbralizadas = 1*(y_test_pred_prob[:, 1] > umbral)"
   ]
  },
  {
   "cell_type": "code",
   "execution_count": 63,
   "metadata": {
    "execution": {
     "iopub.execute_input": "2020-10-28T01:45:37.803383Z",
     "iopub.status.busy": "2020-10-28T01:45:37.802219Z",
     "iopub.status.idle": "2020-10-28T01:45:37.825696Z",
     "shell.execute_reply": "2020-10-28T01:45:37.824423Z"
    },
    "papermill": {
     "duration": 0.167729,
     "end_time": "2020-10-28T01:45:37.825904",
     "exception": false,
     "start_time": "2020-10-28T01:45:37.658175",
     "status": "completed"
    },
    "tags": []
   },
   "outputs": [
    {
     "name": "stdout",
     "output_type": "stream",
     "text": [
      "Matriz de confusión\n",
      " [[1899  183]\n",
      " [ 128  256]]\n",
      "\n",
      "Accuracy\t0.87\n",
      "Sensitividad\t0.67\n",
      "Precisión\t0.58\n"
     ]
    }
   ],
   "source": [
    "print(u\"Matriz de confusión\\n\", metrics.confusion_matrix(Y_test, y_umbralizadas))\n",
    "print(\"\\nAccuracy\\t{}\".format(round(metrics.accuracy_score(Y_test, y_umbralizadas),2)))  \n",
    "print(\"Sensitividad\\t{}\".format(round(metrics.recall_score(Y_test, y_umbralizadas),2)))\n",
    "print(u\"Precisión\\t{}\".format(round(metrics.precision_score(Y_test, y_umbralizadas),2)))    "
   ]
  },
  {
   "cell_type": "code",
   "execution_count": 64,
   "metadata": {
    "execution": {
     "iopub.execute_input": "2020-10-28T01:45:38.106969Z",
     "iopub.status.busy": "2020-10-28T01:45:38.105821Z",
     "iopub.status.idle": "2020-10-28T01:45:38.110066Z",
     "shell.execute_reply": "2020-10-28T01:45:38.109266Z"
    },
    "papermill": {
     "duration": 0.151317,
     "end_time": "2020-10-28T01:45:38.110202",
     "exception": false,
     "start_time": "2020-10-28T01:45:37.958885",
     "status": "completed"
    },
    "tags": []
   },
   "outputs": [],
   "source": [
    "umbral = 0.7\n",
    "y_umbralizadas = 1*(y_test_pred_prob[:, 1] > umbral)"
   ]
  },
  {
   "cell_type": "code",
   "execution_count": 65,
   "metadata": {
    "execution": {
     "iopub.execute_input": "2020-10-28T01:45:38.388601Z",
     "iopub.status.busy": "2020-10-28T01:45:38.387766Z",
     "iopub.status.idle": "2020-10-28T01:45:38.405523Z",
     "shell.execute_reply": "2020-10-28T01:45:38.406311Z"
    },
    "papermill": {
     "duration": 0.157035,
     "end_time": "2020-10-28T01:45:38.406695",
     "exception": false,
     "start_time": "2020-10-28T01:45:38.249660",
     "status": "completed"
    },
    "tags": []
   },
   "outputs": [
    {
     "name": "stdout",
     "output_type": "stream",
     "text": [
      "Matriz de confusión\n",
      " [[1940  142]\n",
      " [ 156  228]]\n",
      "\n",
      "Accuracy\t0.88\n",
      "Sensitividad\t0.59\n",
      "Precisión\t0.62\n"
     ]
    }
   ],
   "source": [
    "print(u\"Matriz de confusión\\n\", metrics.confusion_matrix(Y_test, y_umbralizadas))\n",
    "print(\"\\nAccuracy\\t{}\".format(round(metrics.accuracy_score(Y_test, y_umbralizadas),2)))  \n",
    "print(\"Sensitividad\\t{}\".format(round(metrics.recall_score(Y_test, y_umbralizadas),2)))\n",
    "print(u\"Precisión\\t{}\".format(round(metrics.precision_score(Y_test, y_umbralizadas),2)))    "
   ]
  },
  {
   "cell_type": "markdown",
   "metadata": {
    "papermill": {
     "duration": 0.13883,
     "end_time": "2020-10-28T01:45:38.684952",
     "exception": false,
     "start_time": "2020-10-28T01:45:38.546122",
     "status": "completed"
    },
    "tags": []
   },
   "source": [
    "We finally keep in 0.7 the threshold because it give us best performance. "
   ]
  },
  {
   "cell_type": "markdown",
   "metadata": {
    "papermill": {
     "duration": 0.137602,
     "end_time": "2020-10-28T01:45:38.957582",
     "exception": false,
     "start_time": "2020-10-28T01:45:38.819980",
     "status": "completed"
    },
    "tags": []
   },
   "source": [
    "<center><h1> Neural Network Clasification"
   ]
  },
  {
   "cell_type": "code",
   "execution_count": 66,
   "metadata": {
    "execution": {
     "iopub.execute_input": "2020-10-28T01:45:39.230996Z",
     "iopub.status.busy": "2020-10-28T01:45:39.230159Z",
     "iopub.status.idle": "2020-10-28T01:45:39.233862Z",
     "shell.execute_reply": "2020-10-28T01:45:39.233079Z"
    },
    "papermill": {
     "duration": 0.143002,
     "end_time": "2020-10-28T01:45:39.233985",
     "exception": false,
     "start_time": "2020-10-28T01:45:39.090983",
     "status": "completed"
    },
    "tags": []
   },
   "outputs": [],
   "source": [
    "modelo = MLPClassifier()\n",
    "parametros = {'solver': ['lbfgs'], \n",
    "              'max_iter': [300,500, 800, 1000], # Iteraciones máximas en cada red\n",
    "              'alpha': 10.0 ** -np.arange(0.5, 2), # Parámetro de regularización L2 para evitar sobreajuste\n",
    "              'hidden_layer_sizes':np.arange(10, 35), # Número de neuronas en cada capa\n",
    "              'random_state':[0]}"
   ]
  },
  {
   "cell_type": "code",
   "execution_count": 67,
   "metadata": {
    "execution": {
     "iopub.execute_input": "2020-10-28T01:45:39.521833Z",
     "iopub.status.busy": "2020-10-28T01:45:39.520031Z",
     "iopub.status.idle": "2020-10-28T01:53:45.280402Z",
     "shell.execute_reply": "2020-10-28T01:53:45.281256Z"
    },
    "papermill": {
     "duration": 485.913753,
     "end_time": "2020-10-28T01:53:45.281524",
     "exception": false,
     "start_time": "2020-10-28T01:45:39.367771",
     "status": "completed"
    },
    "tags": []
   },
   "outputs": [
    {
     "name": "stdout",
     "output_type": "stream",
     "text": [
      "Fitting 3 folds for each of 200 candidates, totalling 600 fits\n"
     ]
    },
    {
     "name": "stderr",
     "output_type": "stream",
     "text": [
      "[Parallel(n_jobs=-1)]: Using backend LokyBackend with 4 concurrent workers.\n",
      "[Parallel(n_jobs=-1)]: Done   5 tasks      | elapsed:    8.1s\n",
      "[Parallel(n_jobs=-1)]: Done  10 tasks      | elapsed:   12.5s\n",
      "[Parallel(n_jobs=-1)]: Done  17 tasks      | elapsed:   15.6s\n",
      "[Parallel(n_jobs=-1)]: Done  24 tasks      | elapsed:   16.9s\n",
      "[Parallel(n_jobs=-1)]: Done  33 tasks      | elapsed:   19.2s\n",
      "[Parallel(n_jobs=-1)]: Done  42 tasks      | elapsed:   20.6s\n",
      "[Parallel(n_jobs=-1)]: Done  53 tasks      | elapsed:   24.7s\n",
      "[Parallel(n_jobs=-1)]: Done  64 tasks      | elapsed:   33.0s\n",
      "[Parallel(n_jobs=-1)]: Done  77 tasks      | elapsed:   42.5s\n",
      "[Parallel(n_jobs=-1)]: Done  90 tasks      | elapsed:   52.2s\n",
      "[Parallel(n_jobs=-1)]: Done 105 tasks      | elapsed:  1.1min\n",
      "[Parallel(n_jobs=-1)]: Done 120 tasks      | elapsed:  1.2min\n",
      "[Parallel(n_jobs=-1)]: Done 137 tasks      | elapsed:  1.4min\n",
      "[Parallel(n_jobs=-1)]: Done 154 tasks      | elapsed:  1.6min\n",
      "[Parallel(n_jobs=-1)]: Done 173 tasks      | elapsed:  2.0min\n",
      "[Parallel(n_jobs=-1)]: Done 192 tasks      | elapsed:  2.4min\n",
      "[Parallel(n_jobs=-1)]: Done 213 tasks      | elapsed:  2.6min\n",
      "[Parallel(n_jobs=-1)]: Done 234 tasks      | elapsed:  2.9min\n",
      "[Parallel(n_jobs=-1)]: Done 257 tasks      | elapsed:  3.2min\n",
      "[Parallel(n_jobs=-1)]: Done 280 tasks      | elapsed:  3.6min\n",
      "[Parallel(n_jobs=-1)]: Done 305 tasks      | elapsed:  4.2min\n",
      "[Parallel(n_jobs=-1)]: Done 330 tasks      | elapsed:  4.3min\n",
      "[Parallel(n_jobs=-1)]: Done 357 tasks      | elapsed:  4.6min\n",
      "[Parallel(n_jobs=-1)]: Done 384 tasks      | elapsed:  5.0min\n",
      "[Parallel(n_jobs=-1)]: Done 413 tasks      | elapsed:  5.3min\n",
      "[Parallel(n_jobs=-1)]: Done 442 tasks      | elapsed:  5.5min\n",
      "[Parallel(n_jobs=-1)]: Done 473 tasks      | elapsed:  5.9min\n",
      "[Parallel(n_jobs=-1)]: Done 504 tasks      | elapsed:  6.4min\n",
      "[Parallel(n_jobs=-1)]: Done 537 tasks      | elapsed:  7.0min\n",
      "[Parallel(n_jobs=-1)]: Done 570 tasks      | elapsed:  7.3min\n",
      "[Parallel(n_jobs=-1)]: Done 600 out of 600 | elapsed:  8.0min finished\n"
     ]
    },
    {
     "data": {
      "text/plain": [
       "GridSearchCV(cv=3, estimator=MLPClassifier(), n_jobs=-1,\n",
       "             param_grid={'alpha': array([0.31622777, 0.03162278]),\n",
       "                         'hidden_layer_sizes': array([10, 11, 12, 13, 14, 15, 16, 17, 18, 19, 20, 21, 22, 23, 24, 25, 26,\n",
       "       27, 28, 29, 30, 31, 32, 33, 34]),\n",
       "                         'max_iter': [300, 500, 800, 1000], 'random_state': [0],\n",
       "                         'solver': ['lbfgs']},\n",
       "             scoring='roc_auc', verbose=10)"
      ]
     },
     "execution_count": 67,
     "metadata": {},
     "output_type": "execute_result"
    }
   ],
   "source": [
    "modelo_gs2 = GridSearchCV(modelo, param_grid=parametros, cv = 3, \n",
    "                         scoring='roc_auc', n_jobs=-1, verbose=10)\n",
    "modelo_gs2.fit(X_train, Y_train)"
   ]
  },
  {
   "cell_type": "code",
   "execution_count": 68,
   "metadata": {
    "execution": {
     "iopub.execute_input": "2020-10-28T01:53:45.581024Z",
     "iopub.status.busy": "2020-10-28T01:53:45.580064Z",
     "iopub.status.idle": "2020-10-28T01:53:45.583826Z",
     "shell.execute_reply": "2020-10-28T01:53:45.584627Z"
    },
    "papermill": {
     "duration": 0.15414,
     "end_time": "2020-10-28T01:53:45.584796",
     "exception": false,
     "start_time": "2020-10-28T01:53:45.430656",
     "status": "completed"
    },
    "tags": []
   },
   "outputs": [
    {
     "name": "stdout",
     "output_type": "stream",
     "text": [
      "{'alpha': 0.31622776601683794, 'hidden_layer_sizes': 18, 'max_iter': 1000, 'random_state': 0, 'solver': 'lbfgs'} \n",
      "ROC AUC: 0.9\n"
     ]
    }
   ],
   "source": [
    "#In this case for GridSearch the Max Iter was 500, and we obtein the result that this param was the\n",
    "#Best, so now ill adjust GridSearch for testing with Higher Max Iter and looks if our model improve.\n",
    "print(modelo_gs2.best_params_, \"\\nROC AUC: {}\".format(round(modelo_gs2.best_score_,2)))"
   ]
  },
  {
   "cell_type": "code",
   "execution_count": 69,
   "metadata": {
    "execution": {
     "iopub.execute_input": "2020-10-28T01:53:45.881628Z",
     "iopub.status.busy": "2020-10-28T01:53:45.880635Z",
     "iopub.status.idle": "2020-10-28T01:53:45.884746Z",
     "shell.execute_reply": "2020-10-28T01:53:45.884010Z"
    },
    "papermill": {
     "duration": 0.153514,
     "end_time": "2020-10-28T01:53:45.884871",
     "exception": false,
     "start_time": "2020-10-28T01:53:45.731357",
     "status": "completed"
    },
    "tags": []
   },
   "outputs": [
    {
     "name": "stdout",
     "output_type": "stream",
     "text": [
      "{'alpha': 0.31622776601683794, 'hidden_layer_sizes': 18, 'max_iter': 1000, 'random_state': 0, 'solver': 'lbfgs'} \n",
      "ROC AUC: 0.9\n"
     ]
    }
   ],
   "source": [
    "#How we coud see, the ROC AUC improve using the max Iter again that i gave. First ill check with the\n",
    "# test DF for look if we also get the same improve or in the worst case we get and overfit. \n",
    "print(modelo_gs2.best_params_, \"\\nROC AUC: {}\".format(round(modelo_gs2.best_score_,2)))"
   ]
  },
  {
   "cell_type": "markdown",
   "metadata": {
    "papermill": {
     "duration": 0.147979,
     "end_time": "2020-10-28T01:53:46.178011",
     "exception": false,
     "start_time": "2020-10-28T01:53:46.030032",
     "status": "completed"
    },
    "tags": []
   },
   "source": [
    "## Best parameters"
   ]
  },
  {
   "cell_type": "markdown",
   "metadata": {
    "papermill": {
     "duration": 0.143474,
     "end_time": "2020-10-28T01:53:46.466905",
     "exception": false,
     "start_time": "2020-10-28T01:53:46.323431",
     "status": "completed"
    },
    "tags": []
   },
   "source": [
    "As in the other models, we obtain the best parameters found and fit a model with those parameters:"
   ]
  },
  {
   "cell_type": "code",
   "execution_count": 70,
   "metadata": {
    "execution": {
     "iopub.execute_input": "2020-10-28T01:53:46.764244Z",
     "iopub.status.busy": "2020-10-28T01:53:46.763307Z",
     "iopub.status.idle": "2020-10-28T01:53:46.766490Z",
     "shell.execute_reply": "2020-10-28T01:53:46.765727Z"
    },
    "papermill": {
     "duration": 0.15374,
     "end_time": "2020-10-28T01:53:46.766614",
     "exception": false,
     "start_time": "2020-10-28T01:53:46.612874",
     "status": "completed"
    },
    "tags": []
   },
   "outputs": [],
   "source": [
    "mejor_modelo = MLPClassifier(**modelo_gs2.best_params_, verbose=10)"
   ]
  },
  {
   "cell_type": "code",
   "execution_count": 71,
   "metadata": {
    "execution": {
     "iopub.execute_input": "2020-10-28T01:53:47.079933Z",
     "iopub.status.busy": "2020-10-28T01:53:47.079082Z",
     "iopub.status.idle": "2020-10-28T01:53:54.935950Z",
     "shell.execute_reply": "2020-10-28T01:53:54.934732Z"
    },
    "papermill": {
     "duration": 8.024607,
     "end_time": "2020-10-28T01:53:54.936112",
     "exception": false,
     "start_time": "2020-10-28T01:53:46.911505",
     "status": "completed"
    },
    "tags": []
   },
   "outputs": [
    {
     "data": {
      "text/plain": [
       "MLPClassifier(alpha=0.31622776601683794, hidden_layer_sizes=18, max_iter=1000,\n",
       "              random_state=0, solver='lbfgs', verbose=10)"
      ]
     },
     "execution_count": 71,
     "metadata": {},
     "output_type": "execute_result"
    }
   ],
   "source": [
    "mejor_modelo.fit(X_train, Y_train)"
   ]
  },
  {
   "cell_type": "code",
   "execution_count": 72,
   "metadata": {
    "execution": {
     "iopub.execute_input": "2020-10-28T01:53:55.240500Z",
     "iopub.status.busy": "2020-10-28T01:53:55.239558Z",
     "iopub.status.idle": "2020-10-28T01:53:55.245006Z",
     "shell.execute_reply": "2020-10-28T01:53:55.244421Z"
    },
    "papermill": {
     "duration": 0.158795,
     "end_time": "2020-10-28T01:53:55.245141",
     "exception": false,
     "start_time": "2020-10-28T01:53:55.086346",
     "status": "completed"
    },
    "tags": []
   },
   "outputs": [],
   "source": [
    "y_test_pred_prob = mejor_modelo.predict_proba(X_test) \n",
    "y_test_pred_prob_pos = y_test_pred_prob[np.where(Y_test == 1)[0]]\n",
    "y_test_pred_prob_neg = y_test_pred_prob[np.where(Y_test == 0)[0]]"
   ]
  },
  {
   "cell_type": "code",
   "execution_count": 73,
   "metadata": {
    "execution": {
     "iopub.execute_input": "2020-10-28T01:53:55.551897Z",
     "iopub.status.busy": "2020-10-28T01:53:55.547455Z",
     "iopub.status.idle": "2020-10-28T01:53:55.759392Z",
     "shell.execute_reply": "2020-10-28T01:53:55.758740Z"
    },
    "papermill": {
     "duration": 0.369915,
     "end_time": "2020-10-28T01:53:55.759516",
     "exception": false,
     "start_time": "2020-10-28T01:53:55.389601",
     "status": "completed"
    },
    "tags": []
   },
   "outputs": [
    {
     "data": {
      "image/png": "[encoded data removed]",
      "text/plain": [
       "<Figure size 720x504 with 1 Axes>"
      ]
     },
     "metadata": {},
     "output_type": "display_data"
    }
   ],
   "source": [
    "preds = y_test_pred_prob[:,1]\n",
    "fpr, tpr, threshold = metrics.roc_curve(Y_test, preds)\n",
    "roc_auc = metrics.auc(fpr, tpr)\n",
    "\n",
    "plt.figure(figsize=(10,7))\n",
    "plt.title('Receiver Operating Characteristic')\n",
    "plt.plot(fpr, tpr, 'b', label = 'AUC = %0.2f' % roc_auc)\n",
    "plt.legend(loc = 'lower right')\n",
    "plt.plot([0, 1], [0, 1],'r--')\n",
    "plt.xlim([0, 1])\n",
    "plt.ylim([0, 1])\n",
    "plt.ylabel('True Positive Rate')\n",
    "plt.xlabel('False Positive Rate')\n",
    "plt.show()"
   ]
  },
  {
   "cell_type": "code",
   "execution_count": 74,
   "metadata": {
    "execution": {
     "iopub.execute_input": "2020-10-28T01:53:56.072047Z",
     "iopub.status.busy": "2020-10-28T01:53:56.069404Z",
     "iopub.status.idle": "2020-10-28T01:53:56.356361Z",
     "shell.execute_reply": "2020-10-28T01:53:56.355568Z"
    },
    "papermill": {
     "duration": 0.449145,
     "end_time": "2020-10-28T01:53:56.356492",
     "exception": false,
     "start_time": "2020-10-28T01:53:55.907347",
     "status": "completed"
    },
    "tags": []
   },
   "outputs": [
    {
     "data": {
      "image/png": "[encoded data removed]",
      "text/plain": [
       "<Figure size 432x288 with 1 Axes>"
      ]
     },
     "metadata": {},
     "output_type": "display_data"
    }
   ],
   "source": [
    "represento_doble_hist(y_test_pred_prob_pos[:, 1], y_test_pred_prob_neg[:, 1], n_bins=21, density=0)"
   ]
  },
  {
   "cell_type": "code",
   "execution_count": 75,
   "metadata": {
    "execution": {
     "iopub.execute_input": "2020-10-28T01:53:56.664895Z",
     "iopub.status.busy": "2020-10-28T01:53:56.663933Z",
     "iopub.status.idle": "2020-10-28T01:53:56.667252Z",
     "shell.execute_reply": "2020-10-28T01:53:56.666516Z"
    },
    "papermill": {
     "duration": 0.162705,
     "end_time": "2020-10-28T01:53:56.667417",
     "exception": false,
     "start_time": "2020-10-28T01:53:56.504712",
     "status": "completed"
    },
    "tags": []
   },
   "outputs": [],
   "source": [
    "umbral = 0.5\n",
    "y_umbralizadas = 1*(y_test_pred_prob[:, 1] > umbral)"
   ]
  },
  {
   "cell_type": "code",
   "execution_count": 76,
   "metadata": {
    "execution": {
     "iopub.execute_input": "2020-10-28T01:53:56.974312Z",
     "iopub.status.busy": "2020-10-28T01:53:56.973219Z",
     "iopub.status.idle": "2020-10-28T01:53:56.990447Z",
     "shell.execute_reply": "2020-10-28T01:53:56.989722Z"
    },
    "papermill": {
     "duration": 0.174695,
     "end_time": "2020-10-28T01:53:56.990634",
     "exception": false,
     "start_time": "2020-10-28T01:53:56.815939",
     "status": "completed"
    },
    "tags": []
   },
   "outputs": [
    {
     "name": "stdout",
     "output_type": "stream",
     "text": [
      "Matriz de confusión\n",
      " [[2019   63]\n",
      " [ 225  159]]\n",
      "\n",
      "Accuracy\t0.88\n",
      "Sensitividad\t0.41\n",
      "Precisión\t0.72\n"
     ]
    }
   ],
   "source": [
    "print(u\"Matriz de confusión\\n\", metrics.confusion_matrix(Y_test, y_umbralizadas))\n",
    "print(\"\\nAccuracy\\t{}\".format(round(metrics.accuracy_score(Y_test, y_umbralizadas),2)))  \n",
    "print(\"Sensitividad\\t{}\".format(round(metrics.recall_score(Y_test, y_umbralizadas),2)))\n",
    "print(u\"Precisión\\t{}\".format(round(metrics.precision_score(Y_test, y_umbralizadas),2)))  "
   ]
  },
  {
   "cell_type": "code",
   "execution_count": 77,
   "metadata": {
    "execution": {
     "iopub.execute_input": "2020-10-28T01:53:57.300723Z",
     "iopub.status.busy": "2020-10-28T01:53:57.299931Z",
     "iopub.status.idle": "2020-10-28T01:53:57.303177Z",
     "shell.execute_reply": "2020-10-28T01:53:57.303816Z"
    },
    "papermill": {
     "duration": 0.157093,
     "end_time": "2020-10-28T01:53:57.303996",
     "exception": false,
     "start_time": "2020-10-28T01:53:57.146903",
     "status": "completed"
    },
    "tags": []
   },
   "outputs": [],
   "source": [
    "# Modifing the Maxiter from 500 to 1000, improve the model but only on the train df. it keept\n",
    "# 0.88 accurary. Probably we coud tried with a higher number of itermax."
   ]
  },
  {
   "cell_type": "markdown",
   "metadata": {
    "papermill": {
     "duration": 0.151061,
     "end_time": "2020-10-28T01:53:57.602188",
     "exception": false,
     "start_time": "2020-10-28T01:53:57.451127",
     "status": "completed"
    },
    "tags": []
   },
   "source": [
    "<center><h1> RandomForestClassifier"
   ]
  },
  {
   "cell_type": "code",
   "execution_count": 78,
   "metadata": {
    "execution": {
     "iopub.execute_input": "2020-10-28T01:53:57.906458Z",
     "iopub.status.busy": "2020-10-28T01:53:57.905686Z",
     "iopub.status.idle": "2020-10-28T01:53:58.325860Z",
     "shell.execute_reply": "2020-10-28T01:53:58.326473Z"
    },
    "papermill": {
     "duration": 0.576696,
     "end_time": "2020-10-28T01:53:58.326655",
     "exception": false,
     "start_time": "2020-10-28T01:53:57.749959",
     "status": "completed"
    },
    "tags": []
   },
   "outputs": [
    {
     "name": "stdout",
     "output_type": "stream",
     "text": [
      "              precision    recall  f1-score   support\n",
      "\n",
      "           0       0.93      0.96      0.94      2082\n",
      "           1       0.73      0.61      0.67       384\n",
      "\n",
      "    accuracy                           0.90      2466\n",
      "   macro avg       0.83      0.79      0.81      2466\n",
      "weighted avg       0.90      0.90      0.90      2466\n",
      "\n"
     ]
    }
   ],
   "source": [
    "rfclf = RandomForestClassifier(n_estimators = 30,max_depth = 10,random_state = 101)\n",
    "\n",
    "\n",
    "rfclf.fit(X_train,Y_train)\n",
    "pred = rfclf.predict(X_test)\n",
    "print(classification_report(Y_test,pred))"
   ]
  },
  {
   "cell_type": "code",
   "execution_count": 79,
   "metadata": {
    "execution": {
     "iopub.execute_input": "2020-10-28T01:53:58.635347Z",
     "iopub.status.busy": "2020-10-28T01:53:58.634574Z",
     "iopub.status.idle": "2020-10-28T01:55:22.223972Z",
     "shell.execute_reply": "2020-10-28T01:55:22.223197Z"
    },
    "papermill": {
     "duration": 83.7476,
     "end_time": "2020-10-28T01:55:22.224104",
     "exception": false,
     "start_time": "2020-10-28T01:53:58.476504",
     "status": "completed"
    },
    "tags": []
   },
   "outputs": [
    {
     "name": "stdout",
     "output_type": "stream",
     "text": [
      "Fitting 5 folds for each of 16 candidates, totalling 80 fits\n"
     ]
    },
    {
     "name": "stderr",
     "output_type": "stream",
     "text": [
      "[Parallel(n_jobs=1)]: Using backend SequentialBackend with 1 concurrent workers.\n",
      "[Parallel(n_jobs=1)]: Done  80 out of  80 | elapsed:  1.4min finished\n"
     ]
    },
    {
     "data": {
      "text/plain": [
       "GridSearchCV(estimator=RandomForestClassifier(max_depth=10, n_estimators=30,\n",
       "                                              random_state=101),\n",
       "             param_grid={'max_depth': [10, 15], 'min_samples_leaf': [2, 3],\n",
       "                         'min_samples_split': [2, 4],\n",
       "                         'n_estimators': [80, 100]},\n",
       "             verbose=1)"
      ]
     },
     "execution_count": 79,
     "metadata": {},
     "output_type": "execute_result"
    }
   ],
   "source": [
    "# Lets Optimize the Random Forest Classifier using GridSearch\n",
    "param_grid = {\n",
    "    'n_estimators' : [80,100],\n",
    "    'max_depth' : [10,15],\n",
    "    'min_samples_leaf' : [2,3],\n",
    "    'min_samples_split': [2,4]\n",
    "}\n",
    "\n",
    "gridsearch = GridSearchCV(estimator=rfclf,param_grid=param_grid,verbose = 1)\n",
    "gridsearch.fit(X_train,Y_train)"
   ]
  },
  {
   "cell_type": "code",
   "execution_count": 80,
   "metadata": {
    "execution": {
     "iopub.execute_input": "2020-10-28T01:55:22.532810Z",
     "iopub.status.busy": "2020-10-28T01:55:22.530448Z",
     "iopub.status.idle": "2020-10-28T01:55:22.537431Z",
     "shell.execute_reply": "2020-10-28T01:55:22.536764Z"
    },
    "papermill": {
     "duration": 0.162311,
     "end_time": "2020-10-28T01:55:22.537693",
     "exception": false,
     "start_time": "2020-10-28T01:55:22.375382",
     "status": "completed"
    },
    "tags": []
   },
   "outputs": [
    {
     "data": {
      "text/plain": [
       "{'max_depth': 10,\n",
       " 'min_samples_leaf': 3,\n",
       " 'min_samples_split': 2,\n",
       " 'n_estimators': 100}"
      ]
     },
     "execution_count": 80,
     "metadata": {},
     "output_type": "execute_result"
    }
   ],
   "source": [
    "gridsearch.best_params_"
   ]
  },
  {
   "cell_type": "code",
   "execution_count": 81,
   "metadata": {
    "execution": {
     "iopub.execute_input": "2020-10-28T01:55:22.852138Z",
     "iopub.status.busy": "2020-10-28T01:55:22.850913Z",
     "iopub.status.idle": "2020-10-28T01:55:24.157673Z",
     "shell.execute_reply": "2020-10-28T01:55:24.158339Z"
    },
    "papermill": {
     "duration": 1.468707,
     "end_time": "2020-10-28T01:55:24.158509",
     "exception": false,
     "start_time": "2020-10-28T01:55:22.689802",
     "status": "completed"
    },
    "tags": []
   },
   "outputs": [
    {
     "name": "stdout",
     "output_type": "stream",
     "text": [
      "              precision    recall  f1-score   support\n",
      "\n",
      "           0       0.93      0.96      0.94      2082\n",
      "           1       0.73      0.61      0.67       384\n",
      "\n",
      "    accuracy                           0.91      2466\n",
      "   macro avg       0.83      0.79      0.81      2466\n",
      "weighted avg       0.90      0.91      0.90      2466\n",
      "\n"
     ]
    }
   ],
   "source": [
    "rfclf = RandomForestClassifier(n_estimators = 100,max_depth = 10,min_samples_leaf = 3, min_samples_split = 2,random_state = 101)\n",
    "rfclf.fit(X_train,Y_train)\n",
    "pred = rfclf.predict(X_test)\n",
    "print(classification_report(Y_test,pred))\n",
    "\n",
    "# 0 is False, 1 is True, the precision of detecting True has increased\n",
    "from sklearn.metrics import accuracy_score\n",
    "rfacc = accuracy_score(Y_test,pred)"
   ]
  },
  {
   "cell_type": "markdown",
   "metadata": {
    "papermill": {
     "duration": 0.150571,
     "end_time": "2020-10-28T01:55:24.462329",
     "exception": false,
     "start_time": "2020-10-28T01:55:24.311758",
     "status": "completed"
    },
    "tags": []
   },
   "source": [
    "Finally we have developed the 3 ML models to predict whether a visitor to the e-commerce page will make a purchase or not. But as far as we have seen so far we have the big problem that these results are not easily transformed into value for the marketing department or someone else within the company.\n",
    "\n",
    "This is due to the \"Black Box\" characteristic of the vast majority of the models used, which translates into not being able to extract important insights from the application of Machine Learning models.\n",
    "\n",
    "It is because of the above that the \"Permutation Importance\" technique will finally be used to determine which of all our features are the ones that provide the closest approximation to determining whether the purchase will be made or not.\n",
    "\n",
    "-----------\n",
    "\n",
    "Finalmente hemos desarrollado los 3 modelos de ML para predecir si un visitante a la pagina de comercio electrónico realizara una compra o no. Pero hasta donde hemos visto hasta ahora nos surge el gran problema de que estos resultados no son facilmente transformables en valor para el departamento de marketing o algun otro dentro de la compañia. \n",
    "\n",
    "Esto es debido a la caracteristica de \"Caja Negra\" de la gran mayoria de los modelos utilizados, lo que se traduce en no poder extraer importantes insigths desde la aplicacion de modelos de Machine Learning.\n",
    "\n",
    "Es en razon a lo anterior que se utilziara finalmente la tecnica de \"Permutation Importance\" para determinar cual de todas nuestras features son las que entregan mayor aproximacion a determinar si se realizará la compra o no. "
   ]
  },
  {
   "cell_type": "markdown",
   "metadata": {
    "papermill": {
     "duration": 0.154601,
     "end_time": "2020-10-28T01:55:24.769643",
     "exception": false,
     "start_time": "2020-10-28T01:55:24.615042",
     "status": "completed"
    },
    "tags": []
   },
   "source": [
    "<h1><center> \"Permutation Importance\""
   ]
  },
  {
   "cell_type": "markdown",
   "metadata": {
    "papermill": {
     "duration": 0.159285,
     "end_time": "2020-10-28T01:55:25.081748",
     "exception": false,
     "start_time": "2020-10-28T01:55:24.922463",
     "status": "completed"
    },
    "tags": []
   },
   "source": [
    "### Looking for the explanation of ours models. "
   ]
  },
  {
   "cell_type": "code",
   "execution_count": 82,
   "metadata": {
    "execution": {
     "iopub.execute_input": "2020-10-28T01:55:25.398172Z",
     "iopub.status.busy": "2020-10-28T01:55:25.397372Z",
     "iopub.status.idle": "2020-10-28T01:55:32.683391Z",
     "shell.execute_reply": "2020-10-28T01:55:32.682617Z"
    },
    "papermill": {
     "duration": 7.444346,
     "end_time": "2020-10-28T01:55:32.683543",
     "exception": false,
     "start_time": "2020-10-28T01:55:25.239197",
     "status": "completed"
    },
    "tags": []
   },
   "outputs": [
    {
     "data": {
      "text/html": [
       "\n",
       "    <style>\n",
       "    table.eli5-weights tr:hover {\n",
       "        filter: brightness(85%);\n",
       "    }\n",
       "</style>\n",
       "\n",
       "\n",
       "\n",
       "    \n",
       "\n",
       "    \n",
       "\n",
       "    \n",
       "\n",
       "    \n",
       "\n",
       "    \n",
       "\n",
       "    \n",
       "\n",
       "\n",
       "    \n",
       "\n",
       "    \n",
       "\n",
       "    \n",
       "\n",
       "    \n",
       "\n",
       "    \n",
       "\n",
       "    \n",
       "\n",
       "\n",
       "    \n",
       "\n",
       "    \n",
       "\n",
       "    \n",
       "\n",
       "    \n",
       "\n",
       "    \n",
       "        <table class=\"eli5-weights eli5-feature-importances\" style=\"border-collapse: collapse; border: none; margin-top: 0em; table-layout: auto;\">\n",
       "    <thead>\n",
       "    <tr style=\"border: none;\">\n",
       "        <th style=\"padding: 0 1em 0 0.5em; text-align: right; border: none;\">Weight</th>\n",
       "        <th style=\"padding: 0 0.5em 0 0.5em; text-align: left; border: none;\">Feature</th>\n",
       "    </tr>\n",
       "    </thead>\n",
       "    <tbody>\n",
       "    \n",
       "        <tr style=\"background-color: hsl(120, 100.00%, 80.00%); border: none;\">\n",
       "            <td style=\"padding: 0 1em 0 0.5em; text-align: right; border: none;\">\n",
       "                0.1371\n",
       "                \n",
       "                    &plusmn; 0.0066\n",
       "                \n",
       "            </td>\n",
       "            <td style=\"padding: 0 0.5em 0 0.5em; text-align: left; border: none;\">\n",
       "                PageValues\n",
       "            </td>\n",
       "        </tr>\n",
       "    \n",
       "        <tr style=\"background-color: hsl(120, 100.00%, 97.27%); border: none;\">\n",
       "            <td style=\"padding: 0 1em 0 0.5em; text-align: right; border: none;\">\n",
       "                0.0079\n",
       "                \n",
       "                    &plusmn; 0.0049\n",
       "                \n",
       "            </td>\n",
       "            <td style=\"padding: 0 0.5em 0 0.5em; text-align: left; border: none;\">\n",
       "                ExitRates\n",
       "            </td>\n",
       "        </tr>\n",
       "    \n",
       "        <tr style=\"background-color: hsl(120, 100.00%, 97.55%); border: none;\">\n",
       "            <td style=\"padding: 0 1em 0 0.5em; text-align: right; border: none;\">\n",
       "                0.0068\n",
       "                \n",
       "                    &plusmn; 0.0025\n",
       "                \n",
       "            </td>\n",
       "            <td style=\"padding: 0 0.5em 0 0.5em; text-align: left; border: none;\">\n",
       "                Month_Nov\n",
       "            </td>\n",
       "        </tr>\n",
       "    \n",
       "        <tr style=\"background-color: hsl(120, 100.00%, 97.98%); border: none;\">\n",
       "            <td style=\"padding: 0 1em 0 0.5em; text-align: right; border: none;\">\n",
       "                0.0052\n",
       "                \n",
       "                    &plusmn; 0.0041\n",
       "                \n",
       "            </td>\n",
       "            <td style=\"padding: 0 0.5em 0 0.5em; text-align: left; border: none;\">\n",
       "                BounceRates\n",
       "            </td>\n",
       "        </tr>\n",
       "    \n",
       "        <tr style=\"background-color: hsl(120, 100.00%, 99.17%); border: none;\">\n",
       "            <td style=\"padding: 0 1em 0 0.5em; text-align: right; border: none;\">\n",
       "                0.0015\n",
       "                \n",
       "                    &plusmn; 0.0022\n",
       "                \n",
       "            </td>\n",
       "            <td style=\"padding: 0 0.5em 0 0.5em; text-align: left; border: none;\">\n",
       "                ProductRelated_Duration\n",
       "            </td>\n",
       "        </tr>\n",
       "    \n",
       "        <tr style=\"background-color: hsl(120, 100.00%, 99.34%); border: none;\">\n",
       "            <td style=\"padding: 0 1em 0 0.5em; text-align: right; border: none;\">\n",
       "                0.0011\n",
       "                \n",
       "                    &plusmn; 0.0022\n",
       "                \n",
       "            </td>\n",
       "            <td style=\"padding: 0 0.5em 0 0.5em; text-align: left; border: none;\">\n",
       "                Informational_Duration\n",
       "            </td>\n",
       "        </tr>\n",
       "    \n",
       "        <tr style=\"background-color: hsl(120, 100.00%, 99.49%); border: none;\">\n",
       "            <td style=\"padding: 0 1em 0 0.5em; text-align: right; border: none;\">\n",
       "                0.0007\n",
       "                \n",
       "                    &plusmn; 0.0033\n",
       "                \n",
       "            </td>\n",
       "            <td style=\"padding: 0 0.5em 0 0.5em; text-align: left; border: none;\">\n",
       "                Administrative\n",
       "            </td>\n",
       "        </tr>\n",
       "    \n",
       "        <tr style=\"background-color: hsl(120, 100.00%, 99.61%); border: none;\">\n",
       "            <td style=\"padding: 0 1em 0 0.5em; text-align: right; border: none;\">\n",
       "                0.0005\n",
       "                \n",
       "                    &plusmn; 0.0024\n",
       "                \n",
       "            </td>\n",
       "            <td style=\"padding: 0 0.5em 0 0.5em; text-align: left; border: none;\">\n",
       "                ProductRelated\n",
       "            </td>\n",
       "        </tr>\n",
       "    \n",
       "        <tr style=\"background-color: hsl(120, 100.00%, 99.82%); border: none;\">\n",
       "            <td style=\"padding: 0 1em 0 0.5em; text-align: right; border: none;\">\n",
       "                0.0002\n",
       "                \n",
       "                    &plusmn; 0.0006\n",
       "                \n",
       "            </td>\n",
       "            <td style=\"padding: 0 0.5em 0 0.5em; text-align: left; border: none;\">\n",
       "                Browser\n",
       "            </td>\n",
       "        </tr>\n",
       "    \n",
       "        <tr style=\"background-color: hsl(120, 100.00%, 99.82%); border: none;\">\n",
       "            <td style=\"padding: 0 1em 0 0.5em; text-align: right; border: none;\">\n",
       "                0.0002\n",
       "                \n",
       "                    &plusmn; 0.0021\n",
       "                \n",
       "            </td>\n",
       "            <td style=\"padding: 0 0.5em 0 0.5em; text-align: left; border: none;\">\n",
       "                Month_Dec\n",
       "            </td>\n",
       "        </tr>\n",
       "    \n",
       "        <tr style=\"background-color: hsl(120, 100.00%, 99.89%); border: none;\">\n",
       "            <td style=\"padding: 0 1em 0 0.5em; text-align: right; border: none;\">\n",
       "                0.0001\n",
       "                \n",
       "                    &plusmn; 0.0003\n",
       "                \n",
       "            </td>\n",
       "            <td style=\"padding: 0 0.5em 0 0.5em; text-align: left; border: none;\">\n",
       "                Month_Jul\n",
       "            </td>\n",
       "        </tr>\n",
       "    \n",
       "        <tr style=\"background-color: hsl(0, 100.00%, 100.00%); border: none;\">\n",
       "            <td style=\"padding: 0 1em 0 0.5em; text-align: right; border: none;\">\n",
       "                0\n",
       "                \n",
       "                    &plusmn; 0.0000\n",
       "                \n",
       "            </td>\n",
       "            <td style=\"padding: 0 0.5em 0 0.5em; text-align: left; border: none;\">\n",
       "                Month_June\n",
       "            </td>\n",
       "        </tr>\n",
       "    \n",
       "        <tr style=\"background-color: hsl(0, 100.00%, 100.00%); border: none;\">\n",
       "            <td style=\"padding: 0 1em 0 0.5em; text-align: right; border: none;\">\n",
       "                0\n",
       "                \n",
       "                    &plusmn; 0.0000\n",
       "                \n",
       "            </td>\n",
       "            <td style=\"padding: 0 0.5em 0 0.5em; text-align: left; border: none;\">\n",
       "                Month_Sep\n",
       "            </td>\n",
       "        </tr>\n",
       "    \n",
       "        <tr style=\"background-color: hsl(0, 100.00%, 100.00%); border: none;\">\n",
       "            <td style=\"padding: 0 1em 0 0.5em; text-align: right; border: none;\">\n",
       "                0\n",
       "                \n",
       "                    &plusmn; 0.0000\n",
       "                \n",
       "            </td>\n",
       "            <td style=\"padding: 0 0.5em 0 0.5em; text-align: left; border: none;\">\n",
       "                Month_Feb\n",
       "            </td>\n",
       "        </tr>\n",
       "    \n",
       "        <tr style=\"background-color: hsl(0, 100.00%, 100.00%); border: none;\">\n",
       "            <td style=\"padding: 0 1em 0 0.5em; text-align: right; border: none;\">\n",
       "                0\n",
       "                \n",
       "                    &plusmn; 0.0000\n",
       "                \n",
       "            </td>\n",
       "            <td style=\"padding: 0 0.5em 0 0.5em; text-align: left; border: none;\">\n",
       "                VisitorType_Other\n",
       "            </td>\n",
       "        </tr>\n",
       "    \n",
       "        <tr style=\"background-color: hsl(0, 100.00%, 100.00%); border: none;\">\n",
       "            <td style=\"padding: 0 1em 0 0.5em; text-align: right; border: none;\">\n",
       "                0.0000\n",
       "                \n",
       "                    &plusmn; 0.0011\n",
       "                \n",
       "            </td>\n",
       "            <td style=\"padding: 0 0.5em 0 0.5em; text-align: left; border: none;\">\n",
       "                VisitorType_Returning_Visitor\n",
       "            </td>\n",
       "        </tr>\n",
       "    \n",
       "        <tr style=\"background-color: hsl(0, 100.00%, 99.82%); border: none;\">\n",
       "            <td style=\"padding: 0 1em 0 0.5em; text-align: right; border: none;\">\n",
       "                -0.0002\n",
       "                \n",
       "                    &plusmn; 0.0008\n",
       "                \n",
       "            </td>\n",
       "            <td style=\"padding: 0 0.5em 0 0.5em; text-align: left; border: none;\">\n",
       "                Informational\n",
       "            </td>\n",
       "        </tr>\n",
       "    \n",
       "        <tr style=\"background-color: hsl(0, 100.00%, 99.82%); border: none;\">\n",
       "            <td style=\"padding: 0 1em 0 0.5em; text-align: right; border: none;\">\n",
       "                -0.0002\n",
       "                \n",
       "                    &plusmn; 0.0010\n",
       "                \n",
       "            </td>\n",
       "            <td style=\"padding: 0 0.5em 0 0.5em; text-align: left; border: none;\">\n",
       "                Month_Oct\n",
       "            </td>\n",
       "        </tr>\n",
       "    \n",
       "        <tr style=\"background-color: hsl(0, 100.00%, 99.66%); border: none;\">\n",
       "            <td style=\"padding: 0 1em 0 0.5em; text-align: right; border: none;\">\n",
       "                -0.0004\n",
       "                \n",
       "                    &plusmn; 0.0010\n",
       "                \n",
       "            </td>\n",
       "            <td style=\"padding: 0 0.5em 0 0.5em; text-align: left; border: none;\">\n",
       "                Month_Mar\n",
       "            </td>\n",
       "        </tr>\n",
       "    \n",
       "        <tr style=\"background-color: hsl(0, 100.00%, 99.66%); border: none;\">\n",
       "            <td style=\"padding: 0 1em 0 0.5em; text-align: right; border: none;\">\n",
       "                -0.0004\n",
       "                \n",
       "                    &plusmn; 0.0000\n",
       "                \n",
       "            </td>\n",
       "            <td style=\"padding: 0 0.5em 0 0.5em; text-align: left; border: none;\">\n",
       "                SpecialDay\n",
       "            </td>\n",
       "        </tr>\n",
       "    \n",
       "    \n",
       "        \n",
       "            <tr style=\"background-color: hsl(0, 100.00%, 99.66%); border: none;\">\n",
       "                <td colspan=\"2\" style=\"padding: 0 0.5em 0 0.5em; text-align: center; border: none; white-space: nowrap;\">\n",
       "                    <i>&hellip; 6 more &hellip;</i>\n",
       "                </td>\n",
       "            </tr>\n",
       "        \n",
       "    \n",
       "    </tbody>\n",
       "</table>\n",
       "    \n",
       "\n",
       "    \n",
       "\n",
       "\n",
       "    \n",
       "\n",
       "    \n",
       "\n",
       "    \n",
       "\n",
       "    \n",
       "\n",
       "    \n",
       "\n",
       "    \n",
       "\n",
       "\n",
       "\n"
      ],
      "text/plain": [
       "<IPython.core.display.HTML object>"
      ]
     },
     "execution_count": 82,
     "metadata": {},
     "output_type": "execute_result"
    }
   ],
   "source": [
    "import eli5\n",
    "from eli5.sklearn import PermutationImportance\n",
    "\n",
    "perm = PermutationImportance(rfclf, random_state=1).fit(X_test, Y_test)\n",
    "eli5.show_weights(perm, feature_names = X_test.columns.tolist())"
   ]
  },
  {
   "cell_type": "markdown",
   "metadata": {
    "papermill": {
     "duration": 0.152209,
     "end_time": "2020-10-28T01:55:32.992548",
     "exception": false,
     "start_time": "2020-10-28T01:55:32.840339",
     "status": "completed"
    },
    "tags": []
   },
   "source": [
    "<center><h1> Shap method"
   ]
  },
  {
   "cell_type": "markdown",
   "metadata": {
    "papermill": {
     "duration": 0.152342,
     "end_time": "2020-10-28T01:55:33.302592",
     "exception": false,
     "start_time": "2020-10-28T01:55:33.150250",
     "status": "completed"
    },
    "tags": []
   },
   "source": [
    "We see the same results again regarding which features are more important\n",
    "____\n",
    "Volvemos a ver los mismo resultados respecto a que featurees son mas importantes"
   ]
  },
  {
   "cell_type": "markdown",
   "metadata": {
    "papermill": {
     "duration": 0.155663,
     "end_time": "2020-10-28T01:55:33.613922",
     "exception": false,
     "start_time": "2020-10-28T01:55:33.458259",
     "status": "completed"
    },
    "tags": []
   },
   "source": [
    "From this application of 'PermutationImportance' to two of our models 'PageValues' appears to us as the main feature of importance when defining who will or will not make the purchase. Faced with this, our next step, in order to generate insights and transform our analysis into money for the company, is to thoroughly analyze that column and how it behaves.\n",
    "This could only be done by means of very detailed and advanced statistical graphics, which is not objective in this work, but it is undoubtedly what would make the difference between a successful case or just one more Machine Learning model.\n",
    "___\n",
    "Desde esta aplicacion de 'PermutationImportance' a dos de nuestros modelos 'PageValues' nos aparece como la principal feature de importancia al momento de definir quien realizará o no la compra. Frente a esto nuestro siguiente paso, de vista a generar insights y tranformar nuestro analisis en dinero para la empresa es analisar a fondo aquella columna y como se comporta. \n",
    "Esto solo se podria realizar mediantes graficas estadisticas muy detalladas y avanzadas, lo cual no es objetivo en el presente trabajo, pero sin duda es lo que marcaría la diferencia entre un caso de exito o solo un modelo más de Machine Learning."
   ]
  },
  {
   "cell_type": "markdown",
   "metadata": {
    "papermill": {
     "duration": 0.154226,
     "end_time": "2020-10-28T01:55:33.932810",
     "exception": false,
     "start_time": "2020-10-28T01:55:33.778584",
     "status": "completed"
    },
    "tags": []
   },
   "source": [
    "<center><h1> Manual Insigths\n",
    "   "
   ]
  },
  {
   "cell_type": "code",
   "execution_count": 83,
   "metadata": {
    "execution": {
     "iopub.execute_input": "2020-10-28T01:55:34.247587Z",
     "iopub.status.busy": "2020-10-28T01:55:34.246474Z",
     "iopub.status.idle": "2020-10-28T01:55:34.253394Z",
     "shell.execute_reply": "2020-10-28T01:55:34.252582Z"
    },
    "papermill": {
     "duration": 0.166348,
     "end_time": "2020-10-28T01:55:34.253525",
     "exception": false,
     "start_time": "2020-10-28T01:55:34.087177",
     "status": "completed"
    },
    "tags": []
   },
   "outputs": [],
   "source": [
    "compradores_si = XY['Revenue'] == 1\n",
    "compradores = XY[compradores_si]"
   ]
  },
  {
   "cell_type": "code",
   "execution_count": 84,
   "metadata": {
    "execution": {
     "iopub.execute_input": "2020-10-28T01:55:34.569739Z",
     "iopub.status.busy": "2020-10-28T01:55:34.568681Z",
     "iopub.status.idle": "2020-10-28T01:55:34.573814Z",
     "shell.execute_reply": "2020-10-28T01:55:34.573028Z"
    },
    "papermill": {
     "duration": 0.167148,
     "end_time": "2020-10-28T01:55:34.573945",
     "exception": false,
     "start_time": "2020-10-28T01:55:34.406797",
     "status": "completed"
    },
    "tags": []
   },
   "outputs": [],
   "source": [
    "compradores_no = XY['Revenue'] == 0\n",
    "no_compradores = XY[compradores_no]"
   ]
  },
  {
   "cell_type": "code",
   "execution_count": 85,
   "metadata": {
    "execution": {
     "iopub.execute_input": "2020-10-28T01:55:34.892045Z",
     "iopub.status.busy": "2020-10-28T01:55:34.891025Z",
     "iopub.status.idle": "2020-10-28T01:55:34.960463Z",
     "shell.execute_reply": "2020-10-28T01:55:34.959766Z"
    },
    "papermill": {
     "duration": 0.228452,
     "end_time": "2020-10-28T01:55:34.960590",
     "exception": false,
     "start_time": "2020-10-28T01:55:34.732138",
     "status": "completed"
    },
    "tags": []
   },
   "outputs": [
    {
     "name": "stdout",
     "output_type": "stream",
     "text": [
      "3.393605870020964 2.1177317213586644\n",
      "119.4832438943118 73.74011116864952\n",
      "0.7861635220125787 0.45183266167722125\n",
      "57.61142665093659 30.23623722882732\n",
      "48.2101677148847 28.71464210324314\n",
      "1876.2096148889023 1069.987809154446\n",
      "0.005117152640461212 0.025317232197850356\n",
      "0.019555168256813433 0.04737827052648154\n",
      "27.264518194696002 1.9759977673701754\n",
      "0.02316561844863732 0.0684321627326809\n",
      "2.092767295597484 2.1297255805027824\n",
      "2.45335429769392 2.339474189215122\n",
      "3.0822851153039834 3.1592784494338897\n",
      "4.021488469601677 4.078391863365956\n",
      "0.26153039832285113 0.22730761849932835\n",
      "1.0 0.0\n"
     ]
    }
   ],
   "source": [
    "for i,k in zip(compradores.mean(),no_compradores.mean()):\n",
    "    print (i,k)"
   ]
  },
  {
   "cell_type": "code",
   "execution_count": 86,
   "metadata": {
    "execution": {
     "iopub.execute_input": "2020-10-28T01:55:35.283888Z",
     "iopub.status.busy": "2020-10-28T01:55:35.283012Z",
     "iopub.status.idle": "2020-10-28T01:55:35.341793Z",
     "shell.execute_reply": "2020-10-28T01:55:35.340855Z"
    },
    "papermill": {
     "duration": 0.227316,
     "end_time": "2020-10-28T01:55:35.341959",
     "exception": false,
     "start_time": "2020-10-28T01:55:35.114643",
     "status": "completed"
    },
    "tags": []
   },
   "outputs": [
    {
     "name": "stdout",
     "output_type": "stream",
     "text": [
      "Administrative                3.393606\n",
      "Administrative_Duration     119.483244\n",
      "Informational                 0.786164\n",
      "Informational_Duration       57.611427\n",
      "ProductRelated               48.210168\n",
      "ProductRelated_Duration    1876.209615\n",
      "BounceRates                   0.005117\n",
      "ExitRates                     0.019555\n",
      "PageValues                   27.264518\n",
      "SpecialDay                    0.023166\n",
      "OperatingSystems              2.092767\n",
      "Browser                       2.453354\n",
      "Region                        3.082285\n",
      "TrafficType                   4.021488\n",
      "Weekend                       0.261530\n",
      "Revenue                       1.000000\n",
      "dtype: float64\n",
      "Administrative                2.117732\n",
      "Administrative_Duration      73.740111\n",
      "Informational                 0.451833\n",
      "Informational_Duration       30.236237\n",
      "ProductRelated               28.714642\n",
      "ProductRelated_Duration    1069.987809\n",
      "BounceRates                   0.025317\n",
      "ExitRates                     0.047378\n",
      "PageValues                    1.975998\n",
      "SpecialDay                    0.068432\n",
      "OperatingSystems              2.129726\n",
      "Browser                       2.339474\n",
      "Region                        3.159278\n",
      "TrafficType                   4.078392\n",
      "Weekend                       0.227308\n",
      "Revenue                       0.000000\n",
      "dtype: float64\n"
     ]
    },
    {
     "data": {
      "text/plain": [
       "(None, None)"
      ]
     },
     "execution_count": 86,
     "metadata": {},
     "output_type": "execute_result"
    }
   ],
   "source": [
    "print(compradores.mean(), ), print(no_compradores.mean())"
   ]
  },
  {
   "cell_type": "markdown",
   "metadata": {
    "papermill": {
     "duration": 0.161479,
     "end_time": "2020-10-28T01:55:35.660265",
     "exception": false,
     "start_time": "2020-10-28T01:55:35.498786",
     "status": "completed"
    },
    "tags": []
   },
   "source": [
    "<center><h1> Conclusion"
   ]
  },
  {
   "cell_type": "markdown",
   "metadata": {
    "papermill": {
     "duration": 0.159331,
     "end_time": "2020-10-28T01:55:35.994408",
     "exception": false,
     "start_time": "2020-10-28T01:55:35.835077",
     "status": "completed"
    },
    "tags": []
   },
   "source": [
    "From my analysis, customers who are interested on buying the products :\n",
    "Tend to stay longer on the website especially when they are on the website which is productrelated. Less likely to bounce or exit\n",
    "\n",
    "All of the aforementioned would not charge an important value for the company if this model is not put into production in the cloud to analyze the data of potential buyers in real time and in this way direct marketing strategies to all those people who they are more likely to make a purchase.\n",
    "___\n",
    "Finalmente, como todo lo obtenido mediante el presente analisis, se puede corroborar las caracteristicas principales de los compradores quienes en promedio gastan mas tiempo visitando las paginas web, como tambien el numero de veces que las visitan, al mismo tiempo que los promedios de BounceRate y ExitRates son menores para estos grupos.\n",
    "\n",
    "Todo lo anteriomente expuesto no cobraría un valor importante para la compañia si es que este modelo no se pone en produccion en la nube para analizar en tiempo real los datos de los posibles compradores y de esta forma direccionar las estrategias de marketing a todos aquellas personas que se encuentran mas propensas a realizar una compra. "
   ]
  },
  {
   "cell_type": "code",
   "execution_count": 87,
   "metadata": {
    "execution": {
     "iopub.execute_input": "2020-10-28T01:55:36.334188Z",
     "iopub.status.busy": "2020-10-28T01:55:36.333368Z",
     "iopub.status.idle": "2020-10-28T01:55:36.898944Z",
     "shell.execute_reply": "2020-10-28T01:55:36.899717Z"
    },
    "papermill": {
     "duration": 0.736807,
     "end_time": "2020-10-28T01:55:36.899878",
     "exception": false,
     "start_time": "2020-10-28T01:55:36.163071",
     "status": "completed"
    },
    "tags": []
   },
   "outputs": [
    {
     "data": {
      "image/png": "[encoded data removed]",
      "text/plain": [
       "<Figure size 1080x504 with 1 Axes>"
      ]
     },
     "metadata": {},
     "output_type": "display_data"
    }
   ],
   "source": [
    "final_plot= XY.drop(columns= ['OperatingSystems', 'Browser', 'Region', 'TrafficType'])\n",
    "final_plot.groupby('Revenue').mean().plot(kind='bar', figsize=(15,7))\n",
    "plt.title('Gasto medio por producto en cada clúster')\n",
    "plt.xlabel(u'Número de clúster')\n",
    "_ = plt.ylabel('Valor medio de gasto')"
   ]
  },
  {
   "cell_type": "code",
   "execution_count": null,
   "metadata": {
    "papermill": {
     "duration": 0.157692,
     "end_time": "2020-10-28T01:55:37.219992",
     "exception": false,
     "start_time": "2020-10-28T01:55:37.062300",
     "status": "completed"
    },
    "tags": []
   },
   "outputs": [],
   "source": []
  }
 ],
 "metadata": {
  "kernelspec": {
   "display_name": "Python 3",
   "language": "python",
   "name": "python3"
  },
  "language_info": {
   "codemirror_mode": {
    "name": "ipython",
    "version": 3
   },
   "file_extension": ".py",
   "mimetype": "text/x-python",
   "name": "python",
   "nbconvert_exporter": "python",
   "pygments_lexer": "ipython3",
   "version": "3.7.6"
  },
  "papermill": {
   "duration": 656.61791,
   "end_time": "2020-10-28T01:55:37.488960",
   "environment_variables": {},
   "exception": null,
   "input_path": "__notebook__.ipynb",
   "output_path": "__notebook__.ipynb",
   "parameters": {},
   "start_time": "2020-10-28T01:44:40.871050",
   "version": "2.1.0"
  }
 },
 "nbformat": 4,
 "nbformat_minor": 4
}
